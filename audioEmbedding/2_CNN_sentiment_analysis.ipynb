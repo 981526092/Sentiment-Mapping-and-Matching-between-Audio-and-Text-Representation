{
 "cells": [
  {
   "cell_type": "code",
   "execution_count": 1,
   "metadata": {
    "_cell_guid": "79c7e3d0-c299-4dcb-8224-4455121ee9b0",
    "_uuid": "d629ff2d2480ee46fbb7e2d37f6b5fab8052498a"
   },
   "outputs": [],
   "source": [
    "# Keras\n",
    "import keras\n",
    "from keras import regularizers\n",
    "from keras.preprocessing import sequence\n",
    "from keras.preprocessing.text import Tokenizer\n",
    "from keras.preprocessing.sequence import pad_sequences\n",
    "from keras.models import Sequential, Model, model_from_json\n",
    "from keras.layers import Dense, Embedding, LSTM\n",
    "from keras.layers import Input, Flatten, Dropout, Activation, BatchNormalization\n",
    "from keras.layers import Conv1D, MaxPooling1D, AveragePooling1D\n",
    "from keras.utils import np_utils\n",
    "from keras.callbacks import (EarlyStopping, LearningRateScheduler,\n",
    "                             ModelCheckpoint, TensorBoard, ReduceLROnPlateau)\n",
    "from tensorflow.keras.utils import to_categorical\n",
    "from tensorflow.keras import optimizers\n",
    "from keras import losses, models\n",
    "from keras.activations import relu, softmax\n",
    "from keras.layers import (Convolution2D, GlobalAveragePooling2D, BatchNormalization, Flatten, Dropout,\n",
    "                          GlobalMaxPool2D, MaxPool2D, concatenate, Activation, Input, Dense)\n",
    "from tensorflow.keras.layers import Input, Dense, Convolution2D, MaxPooling2D, UpSampling2D, Flatten, Reshape, Dropout, Conv2D\n",
    "# sklearn\n",
    "from sklearn.metrics import confusion_matrix, accuracy_score\n",
    "from sklearn.model_selection import train_test_split\n",
    "from sklearn.preprocessing import LabelEncoder\n",
    "\n",
    "# Other  \n",
    "from tqdm import tqdm, tqdm_pandas\n",
    "import scipy\n",
    "from scipy.stats import skew\n",
    "import pickle\n",
    "import librosa\n",
    "import librosa.display\n",
    "import json\n",
    "import numpy as np\n",
    "import matplotlib.pyplot as plt\n",
    "import tensorflow as tf\n",
    "from matplotlib.pyplot import specgram\n",
    "import pandas as pd\n",
    "import seaborn as sns\n",
    "import glob \n",
    "import os\n",
    "import sys\n",
    "import IPython.display as ipd  # To play sound in the notebook\n",
    "import warnings\n",
    "# ignore warnings \n",
    "if not sys.warnoptions:\n",
    "    warnings.simplefilter(\"ignore\")"
   ]
  },
  {
   "cell_type": "code",
   "execution_count": 2,
   "metadata": {},
   "outputs": [
    {
     "data": {
      "text/html": [
       "<div>\n",
       "<style scoped>\n",
       "    .dataframe tbody tr th:only-of-type {\n",
       "        vertical-align: middle;\n",
       "    }\n",
       "\n",
       "    .dataframe tbody tr th {\n",
       "        vertical-align: top;\n",
       "    }\n",
       "\n",
       "    .dataframe thead th {\n",
       "        text-align: right;\n",
       "    }\n",
       "</style>\n",
       "<table border=\"1\" class=\"dataframe\">\n",
       "  <thead>\n",
       "    <tr style=\"text-align: right;\">\n",
       "      <th></th>\n",
       "      <th>labels</th>\n",
       "      <th>source</th>\n",
       "      <th>path</th>\n",
       "    </tr>\n",
       "  </thead>\n",
       "  <tbody>\n",
       "    <tr>\n",
       "      <th>0</th>\n",
       "      <td>m_surprise</td>\n",
       "      <td>SAVEE</td>\n",
       "      <td>../dataset/savee/AudioData/DC/su02.wav</td>\n",
       "    </tr>\n",
       "    <tr>\n",
       "      <th>1</th>\n",
       "      <td>m_happy</td>\n",
       "      <td>SAVEE</td>\n",
       "      <td>../dataset/savee/AudioData/DC/h07.wav</td>\n",
       "    </tr>\n",
       "    <tr>\n",
       "      <th>2</th>\n",
       "      <td>m_happy</td>\n",
       "      <td>SAVEE</td>\n",
       "      <td>../dataset/savee/AudioData/DC/h14.wav</td>\n",
       "    </tr>\n",
       "    <tr>\n",
       "      <th>3</th>\n",
       "      <td>m_disgust</td>\n",
       "      <td>SAVEE</td>\n",
       "      <td>../dataset/savee/AudioData/DC/d02.wav</td>\n",
       "    </tr>\n",
       "    <tr>\n",
       "      <th>4</th>\n",
       "      <td>m_disgust</td>\n",
       "      <td>SAVEE</td>\n",
       "      <td>../dataset/savee/AudioData/DC/d11.wav</td>\n",
       "    </tr>\n",
       "  </tbody>\n",
       "</table>\n",
       "</div>"
      ],
      "text/plain": [
       "       labels source                                    path\n",
       "0  m_surprise  SAVEE  ../dataset/savee/AudioData/DC/su02.wav\n",
       "1     m_happy  SAVEE   ../dataset/savee/AudioData/DC/h07.wav\n",
       "2     m_happy  SAVEE   ../dataset/savee/AudioData/DC/h14.wav\n",
       "3   m_disgust  SAVEE   ../dataset/savee/AudioData/DC/d02.wav\n",
       "4   m_disgust  SAVEE   ../dataset/savee/AudioData/DC/d11.wav"
      ]
     },
     "execution_count": 2,
     "metadata": {},
     "output_type": "execute_result"
    }
   ],
   "source": [
    "ref = pd.read_csv(\"../dataset/audio_data_path.csv\")\n",
    "ref.head()"
   ]
  },
  {
   "cell_type": "code",
   "execution_count": 3,
   "metadata": {},
   "outputs": [
    {
     "name": "stderr",
     "output_type": "stream",
     "text": [
      "100%|██████████| 1920/1920 [01:01<00:00, 31.00it/s]\n"
     ]
    }
   ],
   "source": [
    "from sentiment_until import prepare_data\n",
    "\n",
    "sampling_rate=44100\n",
    "audio_duration=2.5\n",
    "n_mfcc = 32\n",
    "mfcc = prepare_data(ref, n_mfcc, sampling_rate, audio_duration, n_mfcc)"
   ]
  },
  {
   "cell_type": "code",
   "execution_count": 4,
   "metadata": {},
   "outputs": [
    {
     "data": {
      "text/plain": [
       "(1920, 32, 216, 1)"
      ]
     },
     "execution_count": 4,
     "metadata": {},
     "output_type": "execute_result"
    }
   ],
   "source": [
    "mfcc.shape"
   ]
  },
  {
   "cell_type": "code",
   "execution_count": 5,
   "metadata": {},
   "outputs": [
    {
     "name": "stdout",
     "output_type": "stream",
     "text": [
      "(1440, 32, 216, 1)\n",
      "(1440, 6912, 1)\n",
      "(1920, 32, 216, 1)\n",
      "(1440,)\n"
     ]
    }
   ],
   "source": [
    "# Split between train and test \n",
    "X_train, X_test, y_train, y_test = train_test_split(mfcc\n",
    "                                                    , ref.labels\n",
    "                                                    , test_size=0.25\n",
    "                                                    , shuffle=True\n",
    "                                                    , random_state=42\n",
    "                                                   )\n",
    "\n",
    "\n",
    "# one hot encode the target \n",
    "lb = LabelEncoder()\n",
    "y_train_old = y_train\n",
    "y_train = np_utils.to_categorical(lb.fit_transform(y_train))\n",
    "y_test = np_utils.to_categorical(lb.fit_transform(y_test))\n",
    "\n",
    "# Pickel the lb object for future use \n",
    "filename = 'labels_2D'\n",
    "outfile = open('./model/'+filename,'wb')\n",
    "pickle.dump(lb,outfile)\n",
    "outfile.close()\n",
    "\n",
    "# Normalization as per the standard NN process\n",
    "mean = np.mean(X_train, axis=0)\n",
    "std = np.std(X_train, axis=0)\n",
    "\n",
    "X_train = (X_train - mean)/std\n",
    "X_test = (X_test - mean)/std\n",
    "\n",
    "print(X_train.shape)\n",
    "X_train_label = X_train.reshape(X_train.shape[0], X_train.shape[1]*X_train.shape[2], 1)\n",
    "print(X_train_label.shape)\n",
    "print(mfcc.shape)\n",
    "print(y_train_old.shape)"
   ]
  },
  {
   "cell_type": "code",
   "execution_count": 6,
   "metadata": {},
   "outputs": [
    {
     "data": {
      "text/plain": [
       "(32, 216, 1)"
      ]
     },
     "execution_count": 6,
     "metadata": {},
     "output_type": "execute_result"
    }
   ],
   "source": [
    "X_train[0].shape"
   ]
  },
  {
   "cell_type": "code",
   "execution_count": 7,
   "metadata": {},
   "outputs": [],
   "source": [
    "lr_reducer = ReduceLROnPlateau(factor=np.sqrt(0.1),\n",
    "                               cooldown=0,\n",
    "                               patience=5,\n",
    "                               verbose=1,\n",
    "                               min_lr=0.5e-6)\n",
    "callbacks = [lr_reducer]"
   ]
  },
  {
   "cell_type": "code",
   "execution_count": 17,
   "metadata": {},
   "outputs": [
    {
     "name": "stdout",
     "output_type": "stream",
     "text": [
      "Epoch 1/100\n",
      "45/45 [==============================] - 9s 198ms/step - loss: 2.5706 - acc: 0.1694 - val_loss: 2.2051 - val_acc: 0.2792 - lr: 0.0010\n",
      "Epoch 2/100\n",
      "45/45 [==============================] - 9s 193ms/step - loss: 2.1800 - acc: 0.2604 - val_loss: 2.2028 - val_acc: 0.2646 - lr: 0.0010\n",
      "Epoch 3/100\n",
      "45/45 [==============================] - 9s 194ms/step - loss: 1.9918 - acc: 0.3167 - val_loss: 2.2392 - val_acc: 0.2729 - lr: 0.0010\n",
      "Epoch 4/100\n",
      "45/45 [==============================] - 9s 196ms/step - loss: 1.8995 - acc: 0.3632 - val_loss: 2.3362 - val_acc: 0.2313 - lr: 0.0010\n",
      "Epoch 5/100\n",
      "45/45 [==============================] - 9s 203ms/step - loss: 1.7937 - acc: 0.3910 - val_loss: 2.0610 - val_acc: 0.3083 - lr: 0.0010\n",
      "Epoch 6/100\n",
      "45/45 [==============================] - 9s 193ms/step - loss: 1.6994 - acc: 0.4014 - val_loss: 2.0356 - val_acc: 0.2854 - lr: 0.0010\n",
      "Epoch 7/100\n",
      "45/45 [==============================] - 9s 194ms/step - loss: 1.5686 - acc: 0.4396 - val_loss: 1.7071 - val_acc: 0.3708 - lr: 0.0010\n",
      "Epoch 8/100\n",
      "45/45 [==============================] - 9s 196ms/step - loss: 1.5006 - acc: 0.4771 - val_loss: 1.7412 - val_acc: 0.4167 - lr: 0.0010\n",
      "Epoch 9/100\n",
      "45/45 [==============================] - 9s 194ms/step - loss: 1.4103 - acc: 0.5063 - val_loss: 1.7850 - val_acc: 0.3812 - lr: 0.0010\n",
      "Epoch 10/100\n",
      "45/45 [==============================] - 9s 194ms/step - loss: 1.3302 - acc: 0.5271 - val_loss: 1.6121 - val_acc: 0.4375 - lr: 0.0010\n",
      "Epoch 11/100\n",
      "45/45 [==============================] - 9s 194ms/step - loss: 1.2669 - acc: 0.5611 - val_loss: 1.3395 - val_acc: 0.4792 - lr: 0.0010\n",
      "Epoch 12/100\n",
      "45/45 [==============================] - 9s 195ms/step - loss: 1.1945 - acc: 0.5729 - val_loss: 1.3979 - val_acc: 0.5063 - lr: 0.0010\n",
      "Epoch 13/100\n",
      "45/45 [==============================] - 9s 194ms/step - loss: 1.1257 - acc: 0.6160 - val_loss: 1.4597 - val_acc: 0.4771 - lr: 0.0010\n",
      "Epoch 14/100\n",
      "45/45 [==============================] - 9s 195ms/step - loss: 1.0700 - acc: 0.6313 - val_loss: 1.2211 - val_acc: 0.5708 - lr: 0.0010\n",
      "Epoch 15/100\n",
      "45/45 [==============================] - 9s 197ms/step - loss: 1.0157 - acc: 0.6493 - val_loss: 1.2089 - val_acc: 0.5875 - lr: 0.0010\n",
      "Epoch 16/100\n",
      "45/45 [==============================] - 9s 200ms/step - loss: 0.9245 - acc: 0.6729 - val_loss: 1.3549 - val_acc: 0.5333 - lr: 0.0010\n",
      "Epoch 17/100\n",
      "45/45 [==============================] - 9s 194ms/step - loss: 0.9190 - acc: 0.6847 - val_loss: 1.4817 - val_acc: 0.4729 - lr: 0.0010\n",
      "Epoch 18/100\n",
      "45/45 [==============================] - 9s 194ms/step - loss: 0.8214 - acc: 0.7146 - val_loss: 1.4052 - val_acc: 0.5146 - lr: 0.0010\n",
      "Epoch 19/100\n",
      "45/45 [==============================] - 9s 197ms/step - loss: 0.7671 - acc: 0.7437 - val_loss: 1.7461 - val_acc: 0.4479 - lr: 0.0010\n",
      "Epoch 20/100\n",
      "45/45 [==============================] - 9s 194ms/step - loss: 0.7178 - acc: 0.7674 - val_loss: 1.0336 - val_acc: 0.6542 - lr: 0.0010\n",
      "Epoch 21/100\n",
      "45/45 [==============================] - 9s 195ms/step - loss: 0.6813 - acc: 0.7792 - val_loss: 1.1271 - val_acc: 0.5708 - lr: 0.0010\n",
      "Epoch 22/100\n",
      "45/45 [==============================] - 9s 196ms/step - loss: 0.6479 - acc: 0.7931 - val_loss: 1.0982 - val_acc: 0.6146 - lr: 0.0010\n",
      "Epoch 23/100\n",
      "45/45 [==============================] - 9s 194ms/step - loss: 0.6204 - acc: 0.7931 - val_loss: 0.9950 - val_acc: 0.6521 - lr: 0.0010\n",
      "Epoch 24/100\n",
      "45/45 [==============================] - 9s 193ms/step - loss: 0.5855 - acc: 0.8042 - val_loss: 1.2995 - val_acc: 0.5437 - lr: 0.0010\n",
      "Epoch 25/100\n",
      "45/45 [==============================] - 9s 194ms/step - loss: 0.5598 - acc: 0.8132 - val_loss: 1.2092 - val_acc: 0.6104 - lr: 0.0010\n",
      "Epoch 26/100\n",
      "45/45 [==============================] - 9s 195ms/step - loss: 0.5235 - acc: 0.8340 - val_loss: 0.9780 - val_acc: 0.6646 - lr: 0.0010\n",
      "Epoch 27/100\n",
      "45/45 [==============================] - 9s 194ms/step - loss: 0.5040 - acc: 0.8271 - val_loss: 1.0754 - val_acc: 0.6083 - lr: 0.0010\n",
      "Epoch 28/100\n",
      "45/45 [==============================] - 9s 195ms/step - loss: 0.4949 - acc: 0.8500 - val_loss: 1.0666 - val_acc: 0.6354 - lr: 0.0010\n",
      "Epoch 29/100\n",
      "45/45 [==============================] - 9s 195ms/step - loss: 0.4292 - acc: 0.8694 - val_loss: 1.1861 - val_acc: 0.6250 - lr: 0.0010\n",
      "Epoch 30/100\n",
      "45/45 [==============================] - 9s 196ms/step - loss: 0.4234 - acc: 0.8715 - val_loss: 1.1164 - val_acc: 0.6313 - lr: 0.0010\n",
      "Epoch 31/100\n",
      "45/45 [==============================] - ETA: 0s - loss: 0.3864 - acc: 0.8861\n",
      "Epoch 31: ReduceLROnPlateau reducing learning rate to 0.00031622778103685084.\n",
      "45/45 [==============================] - 9s 194ms/step - loss: 0.3864 - acc: 0.8861 - val_loss: 1.0047 - val_acc: 0.6646 - lr: 0.0010\n",
      "Epoch 32/100\n",
      "45/45 [==============================] - 9s 195ms/step - loss: 0.3347 - acc: 0.8993 - val_loss: 0.8863 - val_acc: 0.6708 - lr: 3.1623e-04\n",
      "Epoch 33/100\n",
      "45/45 [==============================] - 9s 197ms/step - loss: 0.2797 - acc: 0.9264 - val_loss: 0.8151 - val_acc: 0.7042 - lr: 3.1623e-04\n",
      "Epoch 34/100\n",
      "45/45 [==============================] - 9s 194ms/step - loss: 0.2952 - acc: 0.9160 - val_loss: 0.9002 - val_acc: 0.6896 - lr: 3.1623e-04\n",
      "Epoch 35/100\n",
      "45/45 [==============================] - 9s 194ms/step - loss: 0.2629 - acc: 0.9215 - val_loss: 0.8754 - val_acc: 0.7042 - lr: 3.1623e-04\n",
      "Epoch 36/100\n",
      "45/45 [==============================] - 9s 195ms/step - loss: 0.2645 - acc: 0.9264 - val_loss: 0.8011 - val_acc: 0.7458 - lr: 3.1623e-04\n",
      "Epoch 37/100\n",
      "45/45 [==============================] - 9s 197ms/step - loss: 0.2578 - acc: 0.9208 - val_loss: 0.9546 - val_acc: 0.6833 - lr: 3.1623e-04\n",
      "Epoch 38/100\n",
      "45/45 [==============================] - 9s 194ms/step - loss: 0.2544 - acc: 0.9306 - val_loss: 1.0796 - val_acc: 0.6250 - lr: 3.1623e-04\n",
      "Epoch 39/100\n",
      "45/45 [==============================] - 9s 195ms/step - loss: 0.2345 - acc: 0.9479 - val_loss: 0.8940 - val_acc: 0.6917 - lr: 3.1623e-04\n",
      "Epoch 40/100\n",
      "45/45 [==============================] - 9s 197ms/step - loss: 0.2419 - acc: 0.9375 - val_loss: 0.8206 - val_acc: 0.7292 - lr: 3.1623e-04\n",
      "Epoch 41/100\n",
      "45/45 [==============================] - ETA: 0s - loss: 0.2179 - acc: 0.9403\n",
      "Epoch 41: ReduceLROnPlateau reducing learning rate to 0.00010000000639606199.\n",
      "45/45 [==============================] - 9s 195ms/step - loss: 0.2179 - acc: 0.9403 - val_loss: 0.8313 - val_acc: 0.7208 - lr: 3.1623e-04\n",
      "Epoch 42/100\n",
      "45/45 [==============================] - 9s 195ms/step - loss: 0.1934 - acc: 0.9535 - val_loss: 0.8247 - val_acc: 0.7354 - lr: 1.0000e-04\n",
      "Epoch 43/100\n",
      "45/45 [==============================] - 9s 194ms/step - loss: 0.2050 - acc: 0.9563 - val_loss: 0.8250 - val_acc: 0.7125 - lr: 1.0000e-04\n",
      "Epoch 44/100\n",
      "45/45 [==============================] - 9s 197ms/step - loss: 0.2023 - acc: 0.9514 - val_loss: 0.8091 - val_acc: 0.7208 - lr: 1.0000e-04\n",
      "Epoch 45/100\n",
      "45/45 [==============================] - 9s 195ms/step - loss: 0.1907 - acc: 0.9542 - val_loss: 0.8132 - val_acc: 0.7167 - lr: 1.0000e-04\n",
      "Epoch 46/100\n",
      "45/45 [==============================] - ETA: 0s - loss: 0.1883 - acc: 0.9597\n",
      "Epoch 46: ReduceLROnPlateau reducing learning rate to 3.1622778103685084e-05.\n",
      "45/45 [==============================] - 9s 196ms/step - loss: 0.1883 - acc: 0.9597 - val_loss: 0.8455 - val_acc: 0.7104 - lr: 1.0000e-04\n",
      "Epoch 47/100\n",
      "45/45 [==============================] - 9s 197ms/step - loss: 0.1865 - acc: 0.9542 - val_loss: 0.8250 - val_acc: 0.7229 - lr: 3.1623e-05\n",
      "Epoch 48/100\n",
      "45/45 [==============================] - 9s 194ms/step - loss: 0.2019 - acc: 0.9486 - val_loss: 0.7962 - val_acc: 0.7271 - lr: 3.1623e-05\n",
      "Epoch 49/100\n",
      "45/45 [==============================] - 9s 195ms/step - loss: 0.1885 - acc: 0.9528 - val_loss: 0.7879 - val_acc: 0.7354 - lr: 3.1623e-05\n",
      "Epoch 50/100\n",
      "45/45 [==============================] - 9s 195ms/step - loss: 0.1942 - acc: 0.9549 - val_loss: 0.7866 - val_acc: 0.7312 - lr: 3.1623e-05\n",
      "Epoch 51/100\n",
      "45/45 [==============================] - 9s 197ms/step - loss: 0.1803 - acc: 0.9667 - val_loss: 0.7916 - val_acc: 0.7437 - lr: 3.1623e-05\n",
      "Epoch 52/100\n",
      "45/45 [==============================] - 9s 194ms/step - loss: 0.1830 - acc: 0.9535 - val_loss: 0.7964 - val_acc: 0.7271 - lr: 3.1623e-05\n",
      "Epoch 53/100\n",
      "45/45 [==============================] - 9s 203ms/step - loss: 0.1764 - acc: 0.9563 - val_loss: 0.7950 - val_acc: 0.7375 - lr: 3.1623e-05\n",
      "Epoch 54/100\n",
      "45/45 [==============================] - 9s 198ms/step - loss: 0.1767 - acc: 0.9583 - val_loss: 0.7889 - val_acc: 0.7396 - lr: 3.1623e-05\n",
      "Epoch 55/100\n",
      "45/45 [==============================] - ETA: 0s - loss: 0.1777 - acc: 0.9604\n",
      "Epoch 55: ReduceLROnPlateau reducing learning rate to 1.0000000409520217e-05.\n",
      "45/45 [==============================] - 9s 194ms/step - loss: 0.1777 - acc: 0.9604 - val_loss: 0.7908 - val_acc: 0.7396 - lr: 3.1623e-05\n",
      "Epoch 56/100\n",
      "45/45 [==============================] - 9s 198ms/step - loss: 0.1997 - acc: 0.9486 - val_loss: 0.7909 - val_acc: 0.7396 - lr: 1.0000e-05\n",
      "Epoch 57/100\n",
      "45/45 [==============================] - 9s 197ms/step - loss: 0.1704 - acc: 0.9646 - val_loss: 0.7886 - val_acc: 0.7375 - lr: 1.0000e-05\n",
      "Epoch 58/100\n",
      "45/45 [==============================] - 9s 196ms/step - loss: 0.1798 - acc: 0.9569 - val_loss: 0.7886 - val_acc: 0.7396 - lr: 1.0000e-05\n",
      "Epoch 59/100\n",
      "45/45 [==============================] - 9s 195ms/step - loss: 0.1843 - acc: 0.9549 - val_loss: 0.7911 - val_acc: 0.7375 - lr: 1.0000e-05\n",
      "Epoch 60/100\n",
      "45/45 [==============================] - ETA: 0s - loss: 0.1887 - acc: 0.9535\n",
      "Epoch 60: ReduceLROnPlateau reducing learning rate to 3.1622778678900043e-06.\n",
      "45/45 [==============================] - 9s 195ms/step - loss: 0.1887 - acc: 0.9535 - val_loss: 0.7916 - val_acc: 0.7354 - lr: 1.0000e-05\n",
      "Epoch 61/100\n",
      "45/45 [==============================] - 9s 196ms/step - loss: 0.1860 - acc: 0.9563 - val_loss: 0.7912 - val_acc: 0.7354 - lr: 3.1623e-06\n",
      "Epoch 62/100\n",
      "45/45 [==============================] - 9s 195ms/step - loss: 0.1835 - acc: 0.9535 - val_loss: 0.7907 - val_acc: 0.7354 - lr: 3.1623e-06\n",
      "Epoch 63/100\n",
      "45/45 [==============================] - 9s 196ms/step - loss: 0.1709 - acc: 0.9625 - val_loss: 0.7901 - val_acc: 0.7354 - lr: 3.1623e-06\n",
      "Epoch 64/100\n",
      "45/45 [==============================] - 9s 196ms/step - loss: 0.1656 - acc: 0.9604 - val_loss: 0.7900 - val_acc: 0.7417 - lr: 3.1623e-06\n",
      "Epoch 65/100\n",
      "45/45 [==============================] - ETA: 0s - loss: 0.1781 - acc: 0.9604\n",
      "Epoch 65: ReduceLROnPlateau reducing learning rate to 1.0000000553323957e-06.\n",
      "45/45 [==============================] - 9s 198ms/step - loss: 0.1781 - acc: 0.9604 - val_loss: 0.7888 - val_acc: 0.7500 - lr: 3.1623e-06\n",
      "Epoch 66/100\n",
      "45/45 [==============================] - 9s 197ms/step - loss: 0.1696 - acc: 0.9597 - val_loss: 0.7894 - val_acc: 0.7396 - lr: 1.0000e-06\n",
      "Epoch 67/100\n",
      "45/45 [==============================] - 9s 197ms/step - loss: 0.1929 - acc: 0.9542 - val_loss: 0.7896 - val_acc: 0.7458 - lr: 1.0000e-06\n",
      "Epoch 68/100\n",
      "45/45 [==============================] - 9s 198ms/step - loss: 0.1787 - acc: 0.9611 - val_loss: 0.7896 - val_acc: 0.7458 - lr: 1.0000e-06\n",
      "Epoch 69/100\n",
      "45/45 [==============================] - 9s 197ms/step - loss: 0.1655 - acc: 0.9625 - val_loss: 0.7892 - val_acc: 0.7437 - lr: 1.0000e-06\n",
      "Epoch 70/100\n",
      "45/45 [==============================] - ETA: 0s - loss: 0.1934 - acc: 0.9549\n",
      "Epoch 70: ReduceLROnPlateau reducing learning rate to 5e-07.\n",
      "45/45 [==============================] - 9s 196ms/step - loss: 0.1934 - acc: 0.9549 - val_loss: 0.7892 - val_acc: 0.7417 - lr: 1.0000e-06\n",
      "Epoch 71/100\n",
      "45/45 [==============================] - 9s 196ms/step - loss: 0.1744 - acc: 0.9590 - val_loss: 0.7889 - val_acc: 0.7417 - lr: 5.0000e-07\n",
      "Epoch 72/100\n",
      "45/45 [==============================] - 9s 198ms/step - loss: 0.1879 - acc: 0.9521 - val_loss: 0.7900 - val_acc: 0.7417 - lr: 5.0000e-07\n",
      "Epoch 73/100\n",
      "45/45 [==============================] - 9s 194ms/step - loss: 0.1857 - acc: 0.9549 - val_loss: 0.7903 - val_acc: 0.7437 - lr: 5.0000e-07\n",
      "Epoch 74/100\n",
      "45/45 [==============================] - 9s 197ms/step - loss: 0.1801 - acc: 0.9556 - val_loss: 0.7901 - val_acc: 0.7437 - lr: 5.0000e-07\n",
      "Epoch 75/100\n",
      "45/45 [==============================] - 9s 201ms/step - loss: 0.1809 - acc: 0.9576 - val_loss: 0.7905 - val_acc: 0.7417 - lr: 5.0000e-07\n",
      "Epoch 76/100\n",
      "45/45 [==============================] - 9s 196ms/step - loss: 0.1709 - acc: 0.9618 - val_loss: 0.7903 - val_acc: 0.7437 - lr: 5.0000e-07\n",
      "Epoch 77/100\n",
      "45/45 [==============================] - 9s 197ms/step - loss: 0.1788 - acc: 0.9590 - val_loss: 0.7889 - val_acc: 0.7437 - lr: 5.0000e-07\n",
      "Epoch 78/100\n",
      "45/45 [==============================] - 9s 195ms/step - loss: 0.1582 - acc: 0.9736 - val_loss: 0.7894 - val_acc: 0.7437 - lr: 5.0000e-07\n",
      "Epoch 79/100\n",
      "45/45 [==============================] - 9s 198ms/step - loss: 0.1770 - acc: 0.9563 - val_loss: 0.7894 - val_acc: 0.7437 - lr: 5.0000e-07\n",
      "Epoch 80/100\n",
      "45/45 [==============================] - 9s 201ms/step - loss: 0.1779 - acc: 0.9569 - val_loss: 0.7905 - val_acc: 0.7417 - lr: 5.0000e-07\n",
      "Epoch 81/100\n",
      "45/45 [==============================] - 9s 199ms/step - loss: 0.1742 - acc: 0.9625 - val_loss: 0.7905 - val_acc: 0.7396 - lr: 5.0000e-07\n",
      "Epoch 82/100\n",
      "45/45 [==============================] - 9s 197ms/step - loss: 0.1862 - acc: 0.9521 - val_loss: 0.7901 - val_acc: 0.7417 - lr: 5.0000e-07\n",
      "Epoch 83/100\n",
      "45/45 [==============================] - 9s 195ms/step - loss: 0.1898 - acc: 0.9493 - val_loss: 0.7898 - val_acc: 0.7417 - lr: 5.0000e-07\n",
      "Epoch 84/100\n",
      "45/45 [==============================] - 9s 195ms/step - loss: 0.1754 - acc: 0.9667 - val_loss: 0.7893 - val_acc: 0.7375 - lr: 5.0000e-07\n",
      "Epoch 85/100\n",
      "45/45 [==============================] - 9s 196ms/step - loss: 0.1714 - acc: 0.9646 - val_loss: 0.7894 - val_acc: 0.7417 - lr: 5.0000e-07\n",
      "Epoch 86/100\n",
      "45/45 [==============================] - 9s 198ms/step - loss: 0.1699 - acc: 0.9660 - val_loss: 0.7904 - val_acc: 0.7396 - lr: 5.0000e-07\n",
      "Epoch 87/100\n",
      "45/45 [==============================] - 9s 197ms/step - loss: 0.1860 - acc: 0.9576 - val_loss: 0.7912 - val_acc: 0.7396 - lr: 5.0000e-07\n",
      "Epoch 88/100\n",
      "45/45 [==============================] - 9s 200ms/step - loss: 0.1733 - acc: 0.9597 - val_loss: 0.7898 - val_acc: 0.7417 - lr: 5.0000e-07\n",
      "Epoch 89/100\n",
      "45/45 [==============================] - 9s 197ms/step - loss: 0.1987 - acc: 0.9528 - val_loss: 0.7896 - val_acc: 0.7437 - lr: 5.0000e-07\n",
      "Epoch 90/100\n",
      "45/45 [==============================] - 9s 194ms/step - loss: 0.1679 - acc: 0.9653 - val_loss: 0.7890 - val_acc: 0.7437 - lr: 5.0000e-07\n",
      "Epoch 91/100\n",
      "45/45 [==============================] - 9s 195ms/step - loss: 0.1835 - acc: 0.9549 - val_loss: 0.7893 - val_acc: 0.7396 - lr: 5.0000e-07\n",
      "Epoch 92/100\n",
      "45/45 [==============================] - 9s 195ms/step - loss: 0.1785 - acc: 0.9569 - val_loss: 0.7887 - val_acc: 0.7417 - lr: 5.0000e-07\n",
      "Epoch 93/100\n",
      "45/45 [==============================] - 9s 197ms/step - loss: 0.1974 - acc: 0.9563 - val_loss: 0.7888 - val_acc: 0.7396 - lr: 5.0000e-07\n",
      "Epoch 94/100\n",
      "45/45 [==============================] - 9s 194ms/step - loss: 0.1645 - acc: 0.9583 - val_loss: 0.7890 - val_acc: 0.7396 - lr: 5.0000e-07\n",
      "Epoch 95/100\n",
      "45/45 [==============================] - 9s 196ms/step - loss: 0.1796 - acc: 0.9569 - val_loss: 0.7889 - val_acc: 0.7417 - lr: 5.0000e-07\n",
      "Epoch 96/100\n",
      "45/45 [==============================] - 9s 197ms/step - loss: 0.1728 - acc: 0.9611 - val_loss: 0.7893 - val_acc: 0.7396 - lr: 5.0000e-07\n",
      "Epoch 97/100\n",
      "45/45 [==============================] - 9s 198ms/step - loss: 0.1592 - acc: 0.9667 - val_loss: 0.7899 - val_acc: 0.7375 - lr: 5.0000e-07\n",
      "Epoch 98/100\n",
      "45/45 [==============================] - 9s 198ms/step - loss: 0.1974 - acc: 0.9535 - val_loss: 0.7897 - val_acc: 0.7375 - lr: 5.0000e-07\n",
      "Epoch 99/100\n",
      "45/45 [==============================] - 9s 197ms/step - loss: 0.1958 - acc: 0.9500 - val_loss: 0.7900 - val_acc: 0.7417 - lr: 5.0000e-07\n",
      "Epoch 100/100\n",
      "45/45 [==============================] - 9s 196ms/step - loss: 0.1769 - acc: 0.9569 - val_loss: 0.7905 - val_acc: 0.7375 - lr: 5.0000e-07\n"
     ]
    }
   ],
   "source": [
    "# Build CNN model \n",
    "from sentiment_until import get_2d_conv_model\n",
    "model = get_2d_conv_model(n=n_mfcc)\n",
    "model_history = model.fit(X_train, y_train, validation_data=(X_test, y_test), \n",
    "                    batch_size=32, verbose = 1, epochs=100, callbacks=callbacks)"
   ]
  },
  {
   "cell_type": "code",
   "execution_count": 18,
   "metadata": {},
   "outputs": [
    {
     "data": {
      "image/png": "[encoded data removed]",
      "text/plain": [
       "<Figure size 432x288 with 1 Axes>"
      ]
     },
     "metadata": {
      "needs_background": "light"
     },
     "output_type": "display_data"
    },
    {
     "data": {
      "image/png": "[encoded data removed]",
      "text/plain": [
       "<Figure size 432x288 with 1 Axes>"
      ]
     },
     "metadata": {
      "needs_background": "light"
     },
     "output_type": "display_data"
    }
   ],
   "source": [
    "from sentiment_until import get_results\n",
    "results = get_results(model_history,model,X_test,y_test, ref.labels.unique())\n",
    "results.create_plot(model_history)\n",
    "results.create_plot_acc(model_history)\n"
   ]
  },
  {
   "cell_type": "code",
   "execution_count": 19,
   "metadata": {},
   "outputs": [
    {
     "name": "stdout",
     "output_type": "stream",
     "text": [
      "accuracy: 73.75%\n",
      "30/30 - 0s - 478ms/epoch - 16ms/step\n"
     ]
    },
    {
     "data": {
      "image/png": "[encoded data removed]",
      "text/plain": [
       "<Figure size 720x504 with 2 Axes>"
      ]
     },
     "metadata": {
      "needs_background": "light"
     },
     "output_type": "display_data"
    }
   ],
   "source": [
    "results.create_results(model)\n",
    "results.confusion_results(X_test, y_test, ref.labels.unique(), model)"
   ]
  },
  {
   "cell_type": "code",
   "execution_count": 20,
   "metadata": {},
   "outputs": [
    {
     "name": "stdout",
     "output_type": "stream",
     "text": [
      "Save model and weights at ./model/model_2D.h5 \n"
     ]
    }
   ],
   "source": [
    "# Save model and weights\n",
    "model_name = 'model_2D.h5'\n",
    "save_dir = \"./model/\"\n",
    "\n",
    "model_path = save_dir + model_name\n",
    "model.save(model_path)\n",
    "print('Save model and weights at %s ' % model_path)\n",
    "\n",
    "# Save the model to disk\n",
    "model_json = model.to_json()\n",
    "with open(\"./model/model_json_2D.json\", \"w\") as json_file:\n",
    "    json_file.write(model_json)"
   ]
  },
  {
   "cell_type": "markdown",
   "metadata": {},
   "source": [
    "## auto encoder train"
   ]
  },
  {
   "cell_type": "code",
   "execution_count": 9,
   "metadata": {},
   "outputs": [
    {
     "name": "stdout",
     "output_type": "stream",
     "text": [
      "(1440, 32, 216, 1)\n",
      "(1440, 32, 216, 1)\n",
      "(480, 32, 216, 1)\n",
      "(480, 32, 216, 1)\n"
     ]
    }
   ],
   "source": [
    "# Split between train and test \n",
    "X1_train, X1_test, y1_train, y1_test = train_test_split(mfcc\n",
    "                                                    , mfcc\n",
    "                                                    , test_size=0.25\n",
    "                                                    , shuffle=True\n",
    "                                                    , random_state=42\n",
    "                                                   )\n",
    "\n",
    "# Normalization as per the standard NN process\n",
    "mean = np.mean(X1_train, axis=0)\n",
    "std = np.std(X1_train, axis=0)\n",
    "\n",
    "X1_train = (X1_train - mean)/std\n",
    "X1_test = (X1_test - mean)/std\n",
    "\n",
    "mean1 = np.mean(y1_train, axis=0)\n",
    "std1 = np.std(y1_train, axis=0)\n",
    "y1_train = (y1_train - mean1)/std1\n",
    "y1_test = (y1_test - mean1)/std1\n",
    "\n",
    "print(X1_train.shape)\n",
    "print(y1_train.shape)\n",
    "print(X1_test.shape)\n",
    "print(y1_test.shape)"
   ]
  },
  {
   "cell_type": "code",
   "execution_count": 10,
   "metadata": {},
   "outputs": [
    {
     "name": "stderr",
     "output_type": "stream",
     "text": [
      "2022-05-07 22:05:11.648362: I tensorflow/stream_executor/cuda/cuda_gpu_executor.cc:936] successful NUMA node read from SysFS had negative value (-1), but there must be at least one NUMA node, so returning NUMA node zero\n",
      "2022-05-07 22:05:11.648840: I tensorflow/stream_executor/cuda/cuda_gpu_executor.cc:936] successful NUMA node read from SysFS had negative value (-1), but there must be at least one NUMA node, so returning NUMA node zero\n",
      "2022-05-07 22:05:11.651493: W tensorflow/stream_executor/platform/default/dso_loader.cc:64] Could not load dynamic library 'libcusolver.so.11'; dlerror: libcusolver.so.11: cannot open shared object file: No such file or directory\n",
      "2022-05-07 22:05:11.651834: W tensorflow/stream_executor/platform/default/dso_loader.cc:64] Could not load dynamic library 'libcudnn.so.8'; dlerror: libcudnn.so.8: cannot open shared object file: No such file or directory\n",
      "2022-05-07 22:05:11.651842: W tensorflow/core/common_runtime/gpu/gpu_device.cc:1850] Cannot dlopen some GPU libraries. Please make sure the missing libraries mentioned above are installed properly if you would like to use GPU. Follow the guide at https://www.tensorflow.org/install/gpu for how to download and setup the required libraries for your platform.\n",
      "Skipping registering GPU devices...\n",
      "2022-05-07 22:05:11.652469: I tensorflow/core/platform/cpu_feature_guard.cc:151] This TensorFlow binary is optimized with oneAPI Deep Neural Network Library (oneDNN) to use the following CPU instructions in performance-critical operations:  AVX2 FMA\n",
      "To enable them in other operations, rebuild TensorFlow with the appropriate compiler flags.\n"
     ]
    }
   ],
   "source": [
    "# Build auto encoder model \n",
    "from sentiment_until import get_2d_conv_auto_encoder\n",
    "model = get_2d_conv_auto_encoder(n=n_mfcc)\n",
    "\n",
    "lr_reducer = ReduceLROnPlateau(factor=np.sqrt(0.1),\n",
    "                               cooldown=0,\n",
    "                               patience=5,\n",
    "                               verbose=1,\n",
    "                               min_lr=0.5e-6)\n",
    "callbacks = [lr_reducer]\n",
    "\n"
   ]
  },
  {
   "cell_type": "code",
   "execution_count": 123,
   "metadata": {},
   "outputs": [
    {
     "name": "stdout",
     "output_type": "stream",
     "text": [
      "45/45 [==============================] - 109s 2s/step - loss: 1.1852 - getCosAcc: 0.3927 - val_loss: 1.4802 - val_getCosAcc: 0.2242 - lr: 0.0010\n"
     ]
    }
   ],
   "source": [
    "model_history = model.fit(X1_train, X1_train, validation_data=(X1_test, X1_test), \n",
    "                    batch_size=32, verbose = 1, epochs=1, callbacks=callbacks)"
   ]
  },
  {
   "cell_type": "code",
   "execution_count": 124,
   "metadata": {},
   "outputs": [
    {
     "data": {
      "text/plain": [
       "<keras.callbacks.History at 0x7fb6206a00d0>"
      ]
     },
     "execution_count": 124,
     "metadata": {},
     "output_type": "execute_result"
    }
   ],
   "source": [
    "model_history"
   ]
  },
  {
   "cell_type": "code",
   "execution_count": 125,
   "metadata": {},
   "outputs": [
    {
     "data": {
      "image/png": "[encoded data removed]",
      "text/plain": [
       "<Figure size 432x288 with 1 Axes>"
      ]
     },
     "metadata": {
      "needs_background": "light"
     },
     "output_type": "display_data"
    }
   ],
   "source": [
    "results = get_results(model_history,model,X_test,X_test, ref.labels.unique())\n",
    "results.create_plot(model_history)"
   ]
  },
  {
   "cell_type": "code",
   "execution_count": 126,
   "metadata": {},
   "outputs": [
    {
     "name": "stdout",
     "output_type": "stream",
     "text": [
      "Save model and weights at ./model/model_2D_auto_encoder.h5 \n"
     ]
    }
   ],
   "source": [
    "# Save model and weights\n",
    "model_name = 'model_2D_auto_encoder.h5'\n",
    "save_dir = \"./model/\"\n",
    "\n",
    "model_path = save_dir + model_name\n",
    "model.save(model_path)\n",
    "print('Save model and weights at %s ' % model_path)\n",
    "\n",
    "# Save the model to disk\n",
    "model_json = model.to_json()\n",
    "with open(\"./model/model_json_2D_auto_encoder.json\", \"w\") as json_file:\n",
    "    json_file.write(model_json)\n"
   ]
  },
  {
   "cell_type": "code",
   "execution_count": 11,
   "metadata": {},
   "outputs": [
    {
     "name": "stdout",
     "output_type": "stream",
     "text": [
      "Loaded model from disk\n"
     ]
    }
   ],
   "source": [
    "# loading json and model architecture \n",
    "json_file = open('./model/model_json_2D_auto_encoder.json', 'r')\n",
    "loaded_model_json = json_file.read()\n",
    "json_file.close()\n",
    "loaded_model = model_from_json(loaded_model_json)\n",
    "\n",
    "# load weights into new model\n",
    "loaded_model.load_weights(\"./model/model_2D_auto_encoder.h5\")\n",
    "print(\"Loaded model from disk\")\n",
    " \n",
    "# Keras optimiser\n",
    "opt = optimizers.Adam(0.001)\n",
    "loaded_model.compile(optimizer=opt, loss=\"mean_squared_error\", metrics=['acc'])"
   ]
  },
  {
   "cell_type": "code",
   "execution_count": 20,
   "metadata": {},
   "outputs": [
    {
     "name": "stdout",
     "output_type": "stream",
     "text": [
      "45/45 [==============================] - 3s 69ms/step\n"
     ]
    }
   ],
   "source": [
    "preds = loaded_model.predict(X_train, \n",
    "                         batch_size=32, \n",
    "                         verbose=1)\n"
   ]
  },
  {
   "cell_type": "code",
   "execution_count": 13,
   "metadata": {},
   "outputs": [
    {
     "data": {
      "text/plain": [
       "(480, 6912)"
      ]
     },
     "execution_count": 13,
     "metadata": {},
     "output_type": "execute_result"
    }
   ],
   "source": [
    "X_test.reshape(X_test.shape[0], -1).shape\n"
   ]
  },
  {
   "cell_type": "code",
   "execution_count": 21,
   "metadata": {},
   "outputs": [
    {
     "name": "stdout",
     "output_type": "stream",
     "text": [
      "tf.Tensor(0.643217, shape=(), dtype=float32)\n",
      "[[0.64321707]]\n"
     ]
    }
   ],
   "source": [
    "import tensorflow as tf\n",
    "from keras import backend as K\n",
    "#效率低\n",
    "def getCosAcc(predict, label):\n",
    "    acc = K.mean(-tf.losses.cosine_similarity(label.reshape(label.shape[0], -1).tolist(), \n",
    "    predict.reshape(predict.shape[0], -1).tolist(), axis=1))\n",
    "    return acc\n",
    "tfAcc = getCosAcc(X_train, preds)\n",
    "print(tfAcc)\n",
    "\n",
    "def getCosAcc1(predict, label):\n",
    "    acc = 0\n",
    "    sum = 0\n",
    "    for i in range(predict.shape[0]):\n",
    "        sum += cosine_similarity(predict[i].reshape(1, -1), label[i].reshape(1, -1))\n",
    "    acc = sum / predict.shape[0]\n",
    "    return acc\n",
    "tfAcc1 = getCosAcc1(X_train, preds)\n",
    "print(tfAcc1)\n"
   ]
  },
  {
   "cell_type": "code",
   "execution_count": 22,
   "metadata": {},
   "outputs": [
    {
     "name": "stdout",
     "output_type": "stream",
     "text": [
      "(1440, 32, 216, 1)\n",
      "(1440, 32, 216, 1)\n",
      "(32, 216)\n",
      "(32, 216)\n",
      "42\n"
     ]
    },
    {
     "data": {
      "text/plain": [
       "array([[0.64321707]])"
      ]
     },
     "execution_count": 22,
     "metadata": {},
     "output_type": "execute_result"
    }
   ],
   "source": [
    "print(X_train.shape)\n",
    "print(preds.shape)\n",
    "pred = preds[42].reshape(32, 216)\n",
    "print(pred.shape)\n",
    "\n",
    "\n",
    "orignal = X_train[42].reshape(32, 216)\n",
    "print(orignal.shape)\n",
    "# Cosine Loss\n",
    "from sklearn.metrics.pairwise import cosine_similarity\n",
    "sum = 0\n",
    "maxSim = 0\n",
    "maxIndex = 0\n",
    "#效率高\n",
    "for i in range(X_train.shape[0]):\n",
    "    temp = cosine_similarity(X_train[i].reshape(1, -1), preds[i].reshape(1, -1))\n",
    "    if temp >= maxSim:\n",
    "        maxIndex = i\n",
    "    maxSim = max(temp, maxSim)\n",
    "    sum += temp\n",
    "    \n",
    "\n",
    "res = sum / X_train.shape[0]\n",
    "print(maxIndex)\n",
    "res"
   ]
  },
  {
   "cell_type": "code",
   "execution_count": 23,
   "metadata": {},
   "outputs": [
    {
     "data": {
      "text/plain": [
       "array([[0.81065327]])"
      ]
     },
     "execution_count": 23,
     "metadata": {},
     "output_type": "execute_result"
    }
   ],
   "source": [
    "cosine_similarity(X_train[42].reshape(1, -1), preds[42].reshape(1, -1))"
   ]
  },
  {
   "cell_type": "code",
   "execution_count": 24,
   "metadata": {},
   "outputs": [
    {
     "data": {
      "text/plain": [
       "Text(0.5, 1.0, 'MFCC sepc')"
      ]
     },
     "execution_count": 24,
     "metadata": {},
     "output_type": "execute_result"
    },
    {
     "data": {
      "image/png": "[encoded data removed]",
      "text/plain": [
       "<Figure size 1440x1080 with 2 Axes>"
      ]
     },
     "metadata": {
      "needs_background": "light"
     },
     "output_type": "display_data"
    }
   ],
   "source": [
    "# MFCC\n",
    "plt.figure(figsize=(20, 15))\n",
    "plt.subplot(3,1,1)\n",
    "librosa.display.specshow(pred, x_axis='time')\n",
    "plt.ylabel('MFCC')\n",
    "plt.colorbar()\n",
    "plt.title('MFCC sepc')"
   ]
  },
  {
   "cell_type": "code",
   "execution_count": 25,
   "metadata": {},
   "outputs": [
    {
     "data": {
      "text/plain": [
       "Text(0.5, 1.0, 'MFCC sepc')"
      ]
     },
     "execution_count": 25,
     "metadata": {},
     "output_type": "execute_result"
    },
    {
     "data": {
      "image/png": "[encoded data removed]",
      "text/plain": [
       "<Figure size 1440x1080 with 2 Axes>"
      ]
     },
     "metadata": {
      "needs_background": "light"
     },
     "output_type": "display_data"
    }
   ],
   "source": [
    "# MFCC\n",
    "plt.figure(figsize=(20, 15))\n",
    "plt.subplot(3,1,1)\n",
    "librosa.display.specshow(orignal, x_axis='time')\n",
    "plt.ylabel('MFCC')\n",
    "plt.colorbar()\n",
    "plt.title('MFCC sepc')"
   ]
  },
  {
   "cell_type": "markdown",
   "metadata": {},
   "source": [
    "## obtain audio embedding"
   ]
  },
  {
   "cell_type": "code",
   "execution_count": 146,
   "metadata": {},
   "outputs": [],
   "source": [
    "encoded_layer_model = Model(inputs=loaded_model.input,\n",
    "                                     outputs=loaded_model.get_layer('encoded').output)\n",
    "#out put predict value of the model\n",
    "encoded_output = encoded_layer_model.predict(X_train)"
   ]
  },
  {
   "cell_type": "code",
   "execution_count": 147,
   "metadata": {},
   "outputs": [
    {
     "name": "stdout",
     "output_type": "stream",
     "text": [
      "(1440, 4, 27, 1)\n"
     ]
    }
   ],
   "source": [
    "print(encoded_output.shape)"
   ]
  },
  {
   "cell_type": "code",
   "execution_count": 148,
   "metadata": {},
   "outputs": [
    {
     "data": {
      "text/plain": [
       "array([-0.40230078], dtype=float32)"
      ]
     },
     "execution_count": 148,
     "metadata": {},
     "output_type": "execute_result"
    }
   ],
   "source": [
    "encoded_output[0][0][26]"
   ]
  },
  {
   "cell_type": "markdown",
   "metadata": {},
   "source": [
    "### processing audio embedding，generate table correlated to the label"
   ]
  },
  {
   "cell_type": "code",
   "execution_count": 149,
   "metadata": {},
   "outputs": [
    {
     "data": {
      "text/plain": [
       "array([[-0.5042811 , -0.4273646 , -0.5195569 , ..., -0.37171525,\n",
       "        -0.199839  , -0.18628612],\n",
       "       [-0.11098281, -0.10388979, -0.06318212, ...,  0.07009163,\n",
       "         0.5536978 ,  0.01135027],\n",
       "       [-0.10138667, -0.14669478, -0.1275151 , ...,  0.87680054,\n",
       "         0.8449521 ,  0.43905357],\n",
       "       ...,\n",
       "       [ 0.4831338 ,  0.39316884,  0.39980066, ..., -0.00210522,\n",
       "        -0.36448878, -0.44736058],\n",
       "       [-0.3646794 , -0.29082012, -0.31242394, ..., -0.24297321,\n",
       "        -0.37800515, -0.35150355],\n",
       "       [-0.48204774, -0.41725224, -0.2557448 , ..., -0.4008683 ,\n",
       "        -0.27058402, -0.36276764]], dtype=float32)"
      ]
     },
     "execution_count": 149,
     "metadata": {},
     "output_type": "execute_result"
    }
   ],
   "source": [
    "temp = encoded_output.reshape(encoded_output.shape[0], encoded_output.shape[1]*encoded_output.shape[2])\n",
    "temp"
   ]
  },
  {
   "cell_type": "code",
   "execution_count": 150,
   "metadata": {},
   "outputs": [
    {
     "data": {
      "text/plain": [
       "'f_sad'"
      ]
     },
     "execution_count": 150,
     "metadata": {},
     "output_type": "execute_result"
    }
   ],
   "source": [
    "label_temp = np.array(y_train_old)\n",
    "label_temp[1]"
   ]
  },
  {
   "cell_type": "code",
   "execution_count": 151,
   "metadata": {},
   "outputs": [
    {
     "data": {
      "text/plain": [
       "array([['m_neutral'],\n",
       "       ['f_sad'],\n",
       "       ['f_neutral'],\n",
       "       ...,\n",
       "       ['m_surprise'],\n",
       "       ['m_neutral'],\n",
       "       ['m_neutral']], dtype=object)"
      ]
     },
     "execution_count": 151,
     "metadata": {},
     "output_type": "execute_result"
    }
   ],
   "source": [
    "label_temp = label_temp.reshape(label_temp.shape[0], 1)\n",
    "label_temp"
   ]
  },
  {
   "cell_type": "code",
   "execution_count": 152,
   "metadata": {},
   "outputs": [
    {
     "data": {
      "text/html": [
       "<div>\n",
       "<style scoped>\n",
       "    .dataframe tbody tr th:only-of-type {\n",
       "        vertical-align: middle;\n",
       "    }\n",
       "\n",
       "    .dataframe tbody tr th {\n",
       "        vertical-align: top;\n",
       "    }\n",
       "\n",
       "    .dataframe thead th {\n",
       "        text-align: right;\n",
       "    }\n",
       "</style>\n",
       "<table border=\"1\" class=\"dataframe\">\n",
       "  <thead>\n",
       "    <tr style=\"text-align: right;\">\n",
       "      <th></th>\n",
       "      <th>0</th>\n",
       "    </tr>\n",
       "  </thead>\n",
       "  <tbody>\n",
       "    <tr>\n",
       "      <th>0</th>\n",
       "      <td>m_neutral</td>\n",
       "    </tr>\n",
       "    <tr>\n",
       "      <th>1</th>\n",
       "      <td>f_sad</td>\n",
       "    </tr>\n",
       "    <tr>\n",
       "      <th>2</th>\n",
       "      <td>f_neutral</td>\n",
       "    </tr>\n",
       "    <tr>\n",
       "      <th>3</th>\n",
       "      <td>m_fear</td>\n",
       "    </tr>\n",
       "    <tr>\n",
       "      <th>4</th>\n",
       "      <td>m_neutral</td>\n",
       "    </tr>\n",
       "  </tbody>\n",
       "</table>\n",
       "</div>"
      ],
      "text/plain": [
       "           0\n",
       "0  m_neutral\n",
       "1      f_sad\n",
       "2  f_neutral\n",
       "3     m_fear\n",
       "4  m_neutral"
      ]
     },
     "execution_count": 152,
     "metadata": {},
     "output_type": "execute_result"
    }
   ],
   "source": [
    "label_df = pd.DataFrame(label_temp)\n",
    "label_df.head()"
   ]
  },
  {
   "cell_type": "code",
   "execution_count": 153,
   "metadata": {},
   "outputs": [
    {
     "data": {
      "text/html": [
       "<div>\n",
       "<style scoped>\n",
       "    .dataframe tbody tr th:only-of-type {\n",
       "        vertical-align: middle;\n",
       "    }\n",
       "\n",
       "    .dataframe tbody tr th {\n",
       "        vertical-align: top;\n",
       "    }\n",
       "\n",
       "    .dataframe thead th {\n",
       "        text-align: right;\n",
       "    }\n",
       "</style>\n",
       "<table border=\"1\" class=\"dataframe\">\n",
       "  <thead>\n",
       "    <tr style=\"text-align: right;\">\n",
       "      <th></th>\n",
       "      <th>0</th>\n",
       "      <th>1</th>\n",
       "      <th>2</th>\n",
       "      <th>3</th>\n",
       "      <th>4</th>\n",
       "      <th>5</th>\n",
       "      <th>6</th>\n",
       "      <th>7</th>\n",
       "      <th>8</th>\n",
       "      <th>9</th>\n",
       "      <th>...</th>\n",
       "      <th>98</th>\n",
       "      <th>99</th>\n",
       "      <th>100</th>\n",
       "      <th>101</th>\n",
       "      <th>102</th>\n",
       "      <th>103</th>\n",
       "      <th>104</th>\n",
       "      <th>105</th>\n",
       "      <th>106</th>\n",
       "      <th>107</th>\n",
       "    </tr>\n",
       "  </thead>\n",
       "  <tbody>\n",
       "    <tr>\n",
       "      <th>0</th>\n",
       "      <td>-0.504281</td>\n",
       "      <td>-0.427365</td>\n",
       "      <td>-0.519557</td>\n",
       "      <td>-0.629859</td>\n",
       "      <td>-0.629859</td>\n",
       "      <td>-0.519913</td>\n",
       "      <td>-0.629859</td>\n",
       "      <td>-0.556203</td>\n",
       "      <td>-0.605106</td>\n",
       "      <td>-0.592489</td>\n",
       "      <td>...</td>\n",
       "      <td>-0.430297</td>\n",
       "      <td>-0.399582</td>\n",
       "      <td>-0.075815</td>\n",
       "      <td>-0.135701</td>\n",
       "      <td>-0.004715</td>\n",
       "      <td>-0.189843</td>\n",
       "      <td>0.161181</td>\n",
       "      <td>-0.371715</td>\n",
       "      <td>-0.199839</td>\n",
       "      <td>-0.186286</td>\n",
       "    </tr>\n",
       "    <tr>\n",
       "      <th>1</th>\n",
       "      <td>-0.110983</td>\n",
       "      <td>-0.103890</td>\n",
       "      <td>-0.063182</td>\n",
       "      <td>-0.114516</td>\n",
       "      <td>-0.112650</td>\n",
       "      <td>-0.172134</td>\n",
       "      <td>-0.225444</td>\n",
       "      <td>-0.192116</td>\n",
       "      <td>-0.175435</td>\n",
       "      <td>0.001059</td>\n",
       "      <td>...</td>\n",
       "      <td>-0.163251</td>\n",
       "      <td>0.155345</td>\n",
       "      <td>-0.007225</td>\n",
       "      <td>0.039680</td>\n",
       "      <td>-0.186692</td>\n",
       "      <td>0.047228</td>\n",
       "      <td>0.170926</td>\n",
       "      <td>0.070092</td>\n",
       "      <td>0.553698</td>\n",
       "      <td>0.011350</td>\n",
       "    </tr>\n",
       "    <tr>\n",
       "      <th>2</th>\n",
       "      <td>-0.101387</td>\n",
       "      <td>-0.146695</td>\n",
       "      <td>-0.127515</td>\n",
       "      <td>-0.158159</td>\n",
       "      <td>-0.172775</td>\n",
       "      <td>-0.212269</td>\n",
       "      <td>-0.242705</td>\n",
       "      <td>-0.179039</td>\n",
       "      <td>-0.182775</td>\n",
       "      <td>-0.149124</td>\n",
       "      <td>...</td>\n",
       "      <td>0.667429</td>\n",
       "      <td>0.881873</td>\n",
       "      <td>0.712925</td>\n",
       "      <td>0.744448</td>\n",
       "      <td>0.596081</td>\n",
       "      <td>0.673980</td>\n",
       "      <td>0.845208</td>\n",
       "      <td>0.876801</td>\n",
       "      <td>0.844952</td>\n",
       "      <td>0.439054</td>\n",
       "    </tr>\n",
       "    <tr>\n",
       "      <th>3</th>\n",
       "      <td>-0.155329</td>\n",
       "      <td>-0.124418</td>\n",
       "      <td>-0.243442</td>\n",
       "      <td>-0.107044</td>\n",
       "      <td>-0.413908</td>\n",
       "      <td>-0.117588</td>\n",
       "      <td>-0.001165</td>\n",
       "      <td>-0.186451</td>\n",
       "      <td>-0.499862</td>\n",
       "      <td>-0.426585</td>\n",
       "      <td>...</td>\n",
       "      <td>0.200291</td>\n",
       "      <td>0.068006</td>\n",
       "      <td>0.034221</td>\n",
       "      <td>0.183618</td>\n",
       "      <td>0.210933</td>\n",
       "      <td>0.145808</td>\n",
       "      <td>-0.020882</td>\n",
       "      <td>-0.095218</td>\n",
       "      <td>-0.226382</td>\n",
       "      <td>-0.253818</td>\n",
       "    </tr>\n",
       "    <tr>\n",
       "      <th>4</th>\n",
       "      <td>-0.392306</td>\n",
       "      <td>-0.315623</td>\n",
       "      <td>-0.441369</td>\n",
       "      <td>-0.353499</td>\n",
       "      <td>-0.290997</td>\n",
       "      <td>-0.454479</td>\n",
       "      <td>-0.442850</td>\n",
       "      <td>-0.479907</td>\n",
       "      <td>-0.629859</td>\n",
       "      <td>-0.266194</td>\n",
       "      <td>...</td>\n",
       "      <td>0.247008</td>\n",
       "      <td>0.219731</td>\n",
       "      <td>0.275426</td>\n",
       "      <td>0.211315</td>\n",
       "      <td>0.314326</td>\n",
       "      <td>0.270123</td>\n",
       "      <td>0.117642</td>\n",
       "      <td>0.074828</td>\n",
       "      <td>-0.188160</td>\n",
       "      <td>-0.292886</td>\n",
       "    </tr>\n",
       "  </tbody>\n",
       "</table>\n",
       "<p>5 rows × 108 columns</p>\n",
       "</div>"
      ],
      "text/plain": [
       "        0         1         2         3         4         5         6    \\\n",
       "0 -0.504281 -0.427365 -0.519557 -0.629859 -0.629859 -0.519913 -0.629859   \n",
       "1 -0.110983 -0.103890 -0.063182 -0.114516 -0.112650 -0.172134 -0.225444   \n",
       "2 -0.101387 -0.146695 -0.127515 -0.158159 -0.172775 -0.212269 -0.242705   \n",
       "3 -0.155329 -0.124418 -0.243442 -0.107044 -0.413908 -0.117588 -0.001165   \n",
       "4 -0.392306 -0.315623 -0.441369 -0.353499 -0.290997 -0.454479 -0.442850   \n",
       "\n",
       "        7         8         9    ...       98        99        100       101  \\\n",
       "0 -0.556203 -0.605106 -0.592489  ... -0.430297 -0.399582 -0.075815 -0.135701   \n",
       "1 -0.192116 -0.175435  0.001059  ... -0.163251  0.155345 -0.007225  0.039680   \n",
       "2 -0.179039 -0.182775 -0.149124  ...  0.667429  0.881873  0.712925  0.744448   \n",
       "3 -0.186451 -0.499862 -0.426585  ...  0.200291  0.068006  0.034221  0.183618   \n",
       "4 -0.479907 -0.629859 -0.266194  ...  0.247008  0.219731  0.275426  0.211315   \n",
       "\n",
       "        102       103       104       105       106       107  \n",
       "0 -0.004715 -0.189843  0.161181 -0.371715 -0.199839 -0.186286  \n",
       "1 -0.186692  0.047228  0.170926  0.070092  0.553698  0.011350  \n",
       "2  0.596081  0.673980  0.845208  0.876801  0.844952  0.439054  \n",
       "3  0.210933  0.145808 -0.020882 -0.095218 -0.226382 -0.253818  \n",
       "4  0.314326  0.270123  0.117642  0.074828 -0.188160 -0.292886  \n",
       "\n",
       "[5 rows x 108 columns]"
      ]
     },
     "execution_count": 153,
     "metadata": {},
     "output_type": "execute_result"
    }
   ],
   "source": [
    "em_df = pd.DataFrame(temp)\n",
    "em_df.head()"
   ]
  },
  {
   "cell_type": "code",
   "execution_count": 154,
   "metadata": {},
   "outputs": [
    {
     "data": {
      "text/html": [
       "<div>\n",
       "<style scoped>\n",
       "    .dataframe tbody tr th:only-of-type {\n",
       "        vertical-align: middle;\n",
       "    }\n",
       "\n",
       "    .dataframe tbody tr th {\n",
       "        vertical-align: top;\n",
       "    }\n",
       "\n",
       "    .dataframe thead th {\n",
       "        text-align: right;\n",
       "    }\n",
       "</style>\n",
       "<table border=\"1\" class=\"dataframe\">\n",
       "  <thead>\n",
       "    <tr style=\"text-align: right;\">\n",
       "      <th></th>\n",
       "      <th>0</th>\n",
       "      <th>0</th>\n",
       "      <th>1</th>\n",
       "      <th>2</th>\n",
       "      <th>3</th>\n",
       "      <th>4</th>\n",
       "      <th>5</th>\n",
       "      <th>6</th>\n",
       "      <th>7</th>\n",
       "      <th>8</th>\n",
       "      <th>...</th>\n",
       "      <th>98</th>\n",
       "      <th>99</th>\n",
       "      <th>100</th>\n",
       "      <th>101</th>\n",
       "      <th>102</th>\n",
       "      <th>103</th>\n",
       "      <th>104</th>\n",
       "      <th>105</th>\n",
       "      <th>106</th>\n",
       "      <th>107</th>\n",
       "    </tr>\n",
       "  </thead>\n",
       "  <tbody>\n",
       "    <tr>\n",
       "      <th>0</th>\n",
       "      <td>m_neutral</td>\n",
       "      <td>-0.504281</td>\n",
       "      <td>-0.427365</td>\n",
       "      <td>-0.519557</td>\n",
       "      <td>-0.629859</td>\n",
       "      <td>-0.629859</td>\n",
       "      <td>-0.519913</td>\n",
       "      <td>-0.629859</td>\n",
       "      <td>-0.556203</td>\n",
       "      <td>-0.605106</td>\n",
       "      <td>...</td>\n",
       "      <td>-0.430297</td>\n",
       "      <td>-0.399582</td>\n",
       "      <td>-0.075815</td>\n",
       "      <td>-0.135701</td>\n",
       "      <td>-0.004715</td>\n",
       "      <td>-0.189843</td>\n",
       "      <td>0.161181</td>\n",
       "      <td>-0.371715</td>\n",
       "      <td>-0.199839</td>\n",
       "      <td>-0.186286</td>\n",
       "    </tr>\n",
       "    <tr>\n",
       "      <th>1</th>\n",
       "      <td>f_sad</td>\n",
       "      <td>-0.110983</td>\n",
       "      <td>-0.103890</td>\n",
       "      <td>-0.063182</td>\n",
       "      <td>-0.114516</td>\n",
       "      <td>-0.112650</td>\n",
       "      <td>-0.172134</td>\n",
       "      <td>-0.225444</td>\n",
       "      <td>-0.192116</td>\n",
       "      <td>-0.175435</td>\n",
       "      <td>...</td>\n",
       "      <td>-0.163251</td>\n",
       "      <td>0.155345</td>\n",
       "      <td>-0.007225</td>\n",
       "      <td>0.039680</td>\n",
       "      <td>-0.186692</td>\n",
       "      <td>0.047228</td>\n",
       "      <td>0.170926</td>\n",
       "      <td>0.070092</td>\n",
       "      <td>0.553698</td>\n",
       "      <td>0.011350</td>\n",
       "    </tr>\n",
       "    <tr>\n",
       "      <th>2</th>\n",
       "      <td>f_neutral</td>\n",
       "      <td>-0.101387</td>\n",
       "      <td>-0.146695</td>\n",
       "      <td>-0.127515</td>\n",
       "      <td>-0.158159</td>\n",
       "      <td>-0.172775</td>\n",
       "      <td>-0.212269</td>\n",
       "      <td>-0.242705</td>\n",
       "      <td>-0.179039</td>\n",
       "      <td>-0.182775</td>\n",
       "      <td>...</td>\n",
       "      <td>0.667429</td>\n",
       "      <td>0.881873</td>\n",
       "      <td>0.712925</td>\n",
       "      <td>0.744448</td>\n",
       "      <td>0.596081</td>\n",
       "      <td>0.673980</td>\n",
       "      <td>0.845208</td>\n",
       "      <td>0.876801</td>\n",
       "      <td>0.844952</td>\n",
       "      <td>0.439054</td>\n",
       "    </tr>\n",
       "    <tr>\n",
       "      <th>3</th>\n",
       "      <td>m_fear</td>\n",
       "      <td>-0.155329</td>\n",
       "      <td>-0.124418</td>\n",
       "      <td>-0.243442</td>\n",
       "      <td>-0.107044</td>\n",
       "      <td>-0.413908</td>\n",
       "      <td>-0.117588</td>\n",
       "      <td>-0.001165</td>\n",
       "      <td>-0.186451</td>\n",
       "      <td>-0.499862</td>\n",
       "      <td>...</td>\n",
       "      <td>0.200291</td>\n",
       "      <td>0.068006</td>\n",
       "      <td>0.034221</td>\n",
       "      <td>0.183618</td>\n",
       "      <td>0.210933</td>\n",
       "      <td>0.145808</td>\n",
       "      <td>-0.020882</td>\n",
       "      <td>-0.095218</td>\n",
       "      <td>-0.226382</td>\n",
       "      <td>-0.253818</td>\n",
       "    </tr>\n",
       "    <tr>\n",
       "      <th>4</th>\n",
       "      <td>m_neutral</td>\n",
       "      <td>-0.392306</td>\n",
       "      <td>-0.315623</td>\n",
       "      <td>-0.441369</td>\n",
       "      <td>-0.353499</td>\n",
       "      <td>-0.290997</td>\n",
       "      <td>-0.454479</td>\n",
       "      <td>-0.442850</td>\n",
       "      <td>-0.479907</td>\n",
       "      <td>-0.629859</td>\n",
       "      <td>...</td>\n",
       "      <td>0.247008</td>\n",
       "      <td>0.219731</td>\n",
       "      <td>0.275426</td>\n",
       "      <td>0.211315</td>\n",
       "      <td>0.314326</td>\n",
       "      <td>0.270123</td>\n",
       "      <td>0.117642</td>\n",
       "      <td>0.074828</td>\n",
       "      <td>-0.188160</td>\n",
       "      <td>-0.292886</td>\n",
       "    </tr>\n",
       "  </tbody>\n",
       "</table>\n",
       "<p>5 rows × 109 columns</p>\n",
       "</div>"
      ],
      "text/plain": [
       "         0         0         1         2         3         4         5    \\\n",
       "0  m_neutral -0.504281 -0.427365 -0.519557 -0.629859 -0.629859 -0.519913   \n",
       "1      f_sad -0.110983 -0.103890 -0.063182 -0.114516 -0.112650 -0.172134   \n",
       "2  f_neutral -0.101387 -0.146695 -0.127515 -0.158159 -0.172775 -0.212269   \n",
       "3     m_fear -0.155329 -0.124418 -0.243442 -0.107044 -0.413908 -0.117588   \n",
       "4  m_neutral -0.392306 -0.315623 -0.441369 -0.353499 -0.290997 -0.454479   \n",
       "\n",
       "        6         7         8    ...       98        99        100       101  \\\n",
       "0 -0.629859 -0.556203 -0.605106  ... -0.430297 -0.399582 -0.075815 -0.135701   \n",
       "1 -0.225444 -0.192116 -0.175435  ... -0.163251  0.155345 -0.007225  0.039680   \n",
       "2 -0.242705 -0.179039 -0.182775  ...  0.667429  0.881873  0.712925  0.744448   \n",
       "3 -0.001165 -0.186451 -0.499862  ...  0.200291  0.068006  0.034221  0.183618   \n",
       "4 -0.442850 -0.479907 -0.629859  ...  0.247008  0.219731  0.275426  0.211315   \n",
       "\n",
       "        102       103       104       105       106       107  \n",
       "0 -0.004715 -0.189843  0.161181 -0.371715 -0.199839 -0.186286  \n",
       "1 -0.186692  0.047228  0.170926  0.070092  0.553698  0.011350  \n",
       "2  0.596081  0.673980  0.845208  0.876801  0.844952  0.439054  \n",
       "3  0.210933  0.145808 -0.020882 -0.095218 -0.226382 -0.253818  \n",
       "4  0.314326  0.270123  0.117642  0.074828 -0.188160 -0.292886  \n",
       "\n",
       "[5 rows x 109 columns]"
      ]
     },
     "execution_count": 154,
     "metadata": {},
     "output_type": "execute_result"
    }
   ],
   "source": [
    "em_out_df = pd.concat([label_df, em_df], axis = 1)\n",
    "em_out_df.head()"
   ]
  },
  {
   "cell_type": "code",
   "execution_count": 155,
   "metadata": {},
   "outputs": [],
   "source": [
    "em_out_df.to_csv(\"../dataset/audio_embedding.csv\",index=False)"
   ]
  },
  {
   "cell_type": "code",
   "execution_count": 156,
   "metadata": {},
   "outputs": [
    {
     "data": {
      "text/html": [
       "<div>\n",
       "<style scoped>\n",
       "    .dataframe tbody tr th:only-of-type {\n",
       "        vertical-align: middle;\n",
       "    }\n",
       "\n",
       "    .dataframe tbody tr th {\n",
       "        vertical-align: top;\n",
       "    }\n",
       "\n",
       "    .dataframe thead th {\n",
       "        text-align: right;\n",
       "    }\n",
       "</style>\n",
       "<table border=\"1\" class=\"dataframe\">\n",
       "  <thead>\n",
       "    <tr style=\"text-align: right;\">\n",
       "      <th></th>\n",
       "      <th>0</th>\n",
       "      <th>0.1</th>\n",
       "      <th>1</th>\n",
       "      <th>2</th>\n",
       "      <th>3</th>\n",
       "      <th>4</th>\n",
       "      <th>5</th>\n",
       "      <th>6</th>\n",
       "      <th>7</th>\n",
       "      <th>8</th>\n",
       "      <th>...</th>\n",
       "      <th>98</th>\n",
       "      <th>99</th>\n",
       "      <th>100</th>\n",
       "      <th>101</th>\n",
       "      <th>102</th>\n",
       "      <th>103</th>\n",
       "      <th>104</th>\n",
       "      <th>105</th>\n",
       "      <th>106</th>\n",
       "      <th>107</th>\n",
       "    </tr>\n",
       "  </thead>\n",
       "  <tbody>\n",
       "    <tr>\n",
       "      <th>0</th>\n",
       "      <td>m_neutral</td>\n",
       "      <td>-0.504281</td>\n",
       "      <td>-0.427365</td>\n",
       "      <td>-0.519557</td>\n",
       "      <td>-0.629859</td>\n",
       "      <td>-0.629859</td>\n",
       "      <td>-0.519913</td>\n",
       "      <td>-0.629859</td>\n",
       "      <td>-0.556203</td>\n",
       "      <td>-0.605106</td>\n",
       "      <td>...</td>\n",
       "      <td>-0.430297</td>\n",
       "      <td>-0.399582</td>\n",
       "      <td>-0.075815</td>\n",
       "      <td>-0.135701</td>\n",
       "      <td>-0.004715</td>\n",
       "      <td>-0.189843</td>\n",
       "      <td>0.161181</td>\n",
       "      <td>-0.371715</td>\n",
       "      <td>-0.199839</td>\n",
       "      <td>-0.186286</td>\n",
       "    </tr>\n",
       "    <tr>\n",
       "      <th>1</th>\n",
       "      <td>f_sad</td>\n",
       "      <td>-0.110983</td>\n",
       "      <td>-0.103890</td>\n",
       "      <td>-0.063182</td>\n",
       "      <td>-0.114516</td>\n",
       "      <td>-0.112650</td>\n",
       "      <td>-0.172134</td>\n",
       "      <td>-0.225444</td>\n",
       "      <td>-0.192116</td>\n",
       "      <td>-0.175435</td>\n",
       "      <td>...</td>\n",
       "      <td>-0.163251</td>\n",
       "      <td>0.155345</td>\n",
       "      <td>-0.007225</td>\n",
       "      <td>0.039680</td>\n",
       "      <td>-0.186692</td>\n",
       "      <td>0.047228</td>\n",
       "      <td>0.170926</td>\n",
       "      <td>0.070092</td>\n",
       "      <td>0.553698</td>\n",
       "      <td>0.011350</td>\n",
       "    </tr>\n",
       "    <tr>\n",
       "      <th>2</th>\n",
       "      <td>f_neutral</td>\n",
       "      <td>-0.101387</td>\n",
       "      <td>-0.146695</td>\n",
       "      <td>-0.127515</td>\n",
       "      <td>-0.158159</td>\n",
       "      <td>-0.172775</td>\n",
       "      <td>-0.212269</td>\n",
       "      <td>-0.242705</td>\n",
       "      <td>-0.179039</td>\n",
       "      <td>-0.182775</td>\n",
       "      <td>...</td>\n",
       "      <td>0.667429</td>\n",
       "      <td>0.881873</td>\n",
       "      <td>0.712925</td>\n",
       "      <td>0.744448</td>\n",
       "      <td>0.596081</td>\n",
       "      <td>0.673980</td>\n",
       "      <td>0.845208</td>\n",
       "      <td>0.876801</td>\n",
       "      <td>0.844952</td>\n",
       "      <td>0.439054</td>\n",
       "    </tr>\n",
       "    <tr>\n",
       "      <th>3</th>\n",
       "      <td>m_fear</td>\n",
       "      <td>-0.155329</td>\n",
       "      <td>-0.124418</td>\n",
       "      <td>-0.243442</td>\n",
       "      <td>-0.107044</td>\n",
       "      <td>-0.413908</td>\n",
       "      <td>-0.117588</td>\n",
       "      <td>-0.001165</td>\n",
       "      <td>-0.186451</td>\n",
       "      <td>-0.499862</td>\n",
       "      <td>...</td>\n",
       "      <td>0.200291</td>\n",
       "      <td>0.068006</td>\n",
       "      <td>0.034221</td>\n",
       "      <td>0.183618</td>\n",
       "      <td>0.210933</td>\n",
       "      <td>0.145808</td>\n",
       "      <td>-0.020882</td>\n",
       "      <td>-0.095218</td>\n",
       "      <td>-0.226382</td>\n",
       "      <td>-0.253818</td>\n",
       "    </tr>\n",
       "    <tr>\n",
       "      <th>4</th>\n",
       "      <td>m_neutral</td>\n",
       "      <td>-0.392306</td>\n",
       "      <td>-0.315623</td>\n",
       "      <td>-0.441369</td>\n",
       "      <td>-0.353499</td>\n",
       "      <td>-0.290997</td>\n",
       "      <td>-0.454479</td>\n",
       "      <td>-0.442850</td>\n",
       "      <td>-0.479907</td>\n",
       "      <td>-0.629859</td>\n",
       "      <td>...</td>\n",
       "      <td>0.247008</td>\n",
       "      <td>0.219731</td>\n",
       "      <td>0.275426</td>\n",
       "      <td>0.211315</td>\n",
       "      <td>0.314326</td>\n",
       "      <td>0.270123</td>\n",
       "      <td>0.117642</td>\n",
       "      <td>0.074828</td>\n",
       "      <td>-0.188160</td>\n",
       "      <td>-0.292886</td>\n",
       "    </tr>\n",
       "  </tbody>\n",
       "</table>\n",
       "<p>5 rows × 109 columns</p>\n",
       "</div>"
      ],
      "text/plain": [
       "           0       0.1         1         2         3         4         5  \\\n",
       "0  m_neutral -0.504281 -0.427365 -0.519557 -0.629859 -0.629859 -0.519913   \n",
       "1      f_sad -0.110983 -0.103890 -0.063182 -0.114516 -0.112650 -0.172134   \n",
       "2  f_neutral -0.101387 -0.146695 -0.127515 -0.158159 -0.172775 -0.212269   \n",
       "3     m_fear -0.155329 -0.124418 -0.243442 -0.107044 -0.413908 -0.117588   \n",
       "4  m_neutral -0.392306 -0.315623 -0.441369 -0.353499 -0.290997 -0.454479   \n",
       "\n",
       "          6         7         8  ...        98        99       100       101  \\\n",
       "0 -0.629859 -0.556203 -0.605106  ... -0.430297 -0.399582 -0.075815 -0.135701   \n",
       "1 -0.225444 -0.192116 -0.175435  ... -0.163251  0.155345 -0.007225  0.039680   \n",
       "2 -0.242705 -0.179039 -0.182775  ...  0.667429  0.881873  0.712925  0.744448   \n",
       "3 -0.001165 -0.186451 -0.499862  ...  0.200291  0.068006  0.034221  0.183618   \n",
       "4 -0.442850 -0.479907 -0.629859  ...  0.247008  0.219731  0.275426  0.211315   \n",
       "\n",
       "        102       103       104       105       106       107  \n",
       "0 -0.004715 -0.189843  0.161181 -0.371715 -0.199839 -0.186286  \n",
       "1 -0.186692  0.047228  0.170926  0.070092  0.553698  0.011350  \n",
       "2  0.596081  0.673980  0.845208  0.876801  0.844952  0.439054  \n",
       "3  0.210933  0.145808 -0.020882 -0.095218 -0.226382 -0.253818  \n",
       "4  0.314326  0.270123  0.117642  0.074828 -0.188160 -0.292886  \n",
       "\n",
       "[5 rows x 109 columns]"
      ]
     },
     "execution_count": 156,
     "metadata": {},
     "output_type": "execute_result"
    }
   ],
   "source": [
    "em_out_df = pd.read_csv(\"../dataset/audio_embedding.csv\")\n",
    "em_out_df.head()"
   ]
  },
  {
   "cell_type": "code",
   "execution_count": null,
   "metadata": {},
   "outputs": [],
   "source": []
  },
  {
   "cell_type": "code",
   "execution_count": null,
   "metadata": {},
   "outputs": [],
   "source": []
  }
 ],
 "metadata": {
  "interpreter": {
   "hash": "efe33e4e0528b1633341ae52640fb114490bde57705687440dfd17ecb56d62bc"
  },
  "kernelspec": {
   "display_name": "SER_Project-qjC93odC",
   "language": "python",
   "name": "python3"
  },
  "language_info": {
   "codemirror_mode": {
    "name": "ipython",
    "version": 3
   },
   "file_extension": ".py",
   "mimetype": "text/x-python",
   "name": "python",
   "nbconvert_exporter": "python",
   "pygments_lexer": "ipython3",
   "version": "3.7.5"
  }
 },
 "nbformat": 4,
 "nbformat_minor": 4
}