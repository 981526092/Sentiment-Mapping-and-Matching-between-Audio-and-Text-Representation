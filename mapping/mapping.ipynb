{
 "cells": [
  {
   "cell_type": "code",
   "execution_count": 1,
   "metadata": {},
   "outputs": [],
   "source": [
    "import numpy as np\n",
    "import pandas as pd\n",
    "from tensorflow.keras import Input\n",
    "from tensorflow.keras.layers import Dense, LSTM\n",
    "from tensorflow.keras.models import load_model, Model\n",
    "from tensorflow.keras.optimizers import Adam\n",
    "from sklearn.model_selection import train_test_split\n",
    "from attention import Attention\n",
    "from keras import losses"
   ]
  },
  {
   "cell_type": "code",
   "execution_count": 2,
   "metadata": {},
   "outputs": [
    {
     "data": {
      "text/html": [
       "<div>\n",
       "<style scoped>\n",
       "    .dataframe tbody tr th:only-of-type {\n",
       "        vertical-align: middle;\n",
       "    }\n",
       "\n",
       "    .dataframe tbody tr th {\n",
       "        vertical-align: top;\n",
       "    }\n",
       "\n",
       "    .dataframe thead th {\n",
       "        text-align: right;\n",
       "    }\n",
       "</style>\n",
       "<table border=\"1\" class=\"dataframe\">\n",
       "  <thead>\n",
       "    <tr style=\"text-align: right;\">\n",
       "      <th></th>\n",
       "      <th>0</th>\n",
       "      <th>0.1</th>\n",
       "      <th>1</th>\n",
       "      <th>2</th>\n",
       "      <th>3</th>\n",
       "      <th>4</th>\n",
       "      <th>5</th>\n",
       "      <th>6</th>\n",
       "      <th>7</th>\n",
       "      <th>8</th>\n",
       "      <th>...</th>\n",
       "      <th>1598</th>\n",
       "      <th>1599</th>\n",
       "      <th>1600</th>\n",
       "      <th>1601</th>\n",
       "      <th>1602</th>\n",
       "      <th>1603</th>\n",
       "      <th>1604</th>\n",
       "      <th>1605</th>\n",
       "      <th>1606</th>\n",
       "      <th>1607</th>\n",
       "    </tr>\n",
       "  </thead>\n",
       "  <tbody>\n",
       "    <tr>\n",
       "      <th>0</th>\n",
       "      <td>5</td>\n",
       "      <td>5.354230</td>\n",
       "      <td>3.535457</td>\n",
       "      <td>7.348618</td>\n",
       "      <td>4.718048</td>\n",
       "      <td>7.335632</td>\n",
       "      <td>6.937083</td>\n",
       "      <td>3.644210</td>\n",
       "      <td>4.429690</td>\n",
       "      <td>4.881655</td>\n",
       "      <td>...</td>\n",
       "      <td>1.99443</td>\n",
       "      <td>0.817898</td>\n",
       "      <td>1.219209</td>\n",
       "      <td>4.230605</td>\n",
       "      <td>1.940278</td>\n",
       "      <td>0.0</td>\n",
       "      <td>2.618883</td>\n",
       "      <td>4.770179</td>\n",
       "      <td>0.067875</td>\n",
       "      <td>0.0</td>\n",
       "    </tr>\n",
       "    <tr>\n",
       "      <th>1</th>\n",
       "      <td>2</td>\n",
       "      <td>6.343656</td>\n",
       "      <td>3.772492</td>\n",
       "      <td>6.890505</td>\n",
       "      <td>6.539682</td>\n",
       "      <td>6.515871</td>\n",
       "      <td>3.221131</td>\n",
       "      <td>2.128765</td>\n",
       "      <td>3.987325</td>\n",
       "      <td>1.806336</td>\n",
       "      <td>...</td>\n",
       "      <td>1.99443</td>\n",
       "      <td>0.817898</td>\n",
       "      <td>1.219209</td>\n",
       "      <td>4.230605</td>\n",
       "      <td>1.940278</td>\n",
       "      <td>0.0</td>\n",
       "      <td>2.618883</td>\n",
       "      <td>4.770179</td>\n",
       "      <td>0.067875</td>\n",
       "      <td>0.0</td>\n",
       "    </tr>\n",
       "    <tr>\n",
       "      <th>2</th>\n",
       "      <td>4</td>\n",
       "      <td>8.652696</td>\n",
       "      <td>4.187095</td>\n",
       "      <td>3.165394</td>\n",
       "      <td>2.999270</td>\n",
       "      <td>6.707338</td>\n",
       "      <td>1.457551</td>\n",
       "      <td>0.000000</td>\n",
       "      <td>4.810442</td>\n",
       "      <td>1.611260</td>\n",
       "      <td>...</td>\n",
       "      <td>1.99443</td>\n",
       "      <td>0.817898</td>\n",
       "      <td>1.219209</td>\n",
       "      <td>4.230605</td>\n",
       "      <td>1.940278</td>\n",
       "      <td>0.0</td>\n",
       "      <td>2.618883</td>\n",
       "      <td>4.770179</td>\n",
       "      <td>0.067875</td>\n",
       "      <td>0.0</td>\n",
       "    </tr>\n",
       "    <tr>\n",
       "      <th>3</th>\n",
       "      <td>5</td>\n",
       "      <td>3.549071</td>\n",
       "      <td>6.404244</td>\n",
       "      <td>7.015340</td>\n",
       "      <td>4.225493</td>\n",
       "      <td>4.072373</td>\n",
       "      <td>5.748169</td>\n",
       "      <td>6.250419</td>\n",
       "      <td>7.483934</td>\n",
       "      <td>4.623145</td>\n",
       "      <td>...</td>\n",
       "      <td>1.99443</td>\n",
       "      <td>0.817898</td>\n",
       "      <td>1.219209</td>\n",
       "      <td>4.230605</td>\n",
       "      <td>1.940278</td>\n",
       "      <td>0.0</td>\n",
       "      <td>2.618883</td>\n",
       "      <td>4.770179</td>\n",
       "      <td>0.067875</td>\n",
       "      <td>0.0</td>\n",
       "    </tr>\n",
       "    <tr>\n",
       "      <th>4</th>\n",
       "      <td>5</td>\n",
       "      <td>2.842956</td>\n",
       "      <td>3.263400</td>\n",
       "      <td>7.103064</td>\n",
       "      <td>4.562712</td>\n",
       "      <td>6.050471</td>\n",
       "      <td>7.587608</td>\n",
       "      <td>3.260895</td>\n",
       "      <td>6.198865</td>\n",
       "      <td>4.598395</td>\n",
       "      <td>...</td>\n",
       "      <td>1.99443</td>\n",
       "      <td>0.817898</td>\n",
       "      <td>1.219209</td>\n",
       "      <td>4.230605</td>\n",
       "      <td>1.940278</td>\n",
       "      <td>0.0</td>\n",
       "      <td>2.618883</td>\n",
       "      <td>4.770179</td>\n",
       "      <td>0.067875</td>\n",
       "      <td>0.0</td>\n",
       "    </tr>\n",
       "  </tbody>\n",
       "</table>\n",
       "<p>5 rows × 1609 columns</p>\n",
       "</div>"
      ],
      "text/plain": [
       "   0       0.1         1         2         3         4         5         6  \\\n",
       "0  5  5.354230  3.535457  7.348618  4.718048  7.335632  6.937083  3.644210   \n",
       "1  2  6.343656  3.772492  6.890505  6.539682  6.515871  3.221131  2.128765   \n",
       "2  4  8.652696  4.187095  3.165394  2.999270  6.707338  1.457551  0.000000   \n",
       "3  5  3.549071  6.404244  7.015340  4.225493  4.072373  5.748169  6.250419   \n",
       "4  5  2.842956  3.263400  7.103064  4.562712  6.050471  7.587608  3.260895   \n",
       "\n",
       "          7         8  ...     1598      1599      1600      1601      1602  \\\n",
       "0  4.429690  4.881655  ...  1.99443  0.817898  1.219209  4.230605  1.940278   \n",
       "1  3.987325  1.806336  ...  1.99443  0.817898  1.219209  4.230605  1.940278   \n",
       "2  4.810442  1.611260  ...  1.99443  0.817898  1.219209  4.230605  1.940278   \n",
       "3  7.483934  4.623145  ...  1.99443  0.817898  1.219209  4.230605  1.940278   \n",
       "4  6.198865  4.598395  ...  1.99443  0.817898  1.219209  4.230605  1.940278   \n",
       "\n",
       "   1603      1604      1605      1606  1607  \n",
       "0   0.0  2.618883  4.770179  0.067875   0.0  \n",
       "1   0.0  2.618883  4.770179  0.067875   0.0  \n",
       "2   0.0  2.618883  4.770179  0.067875   0.0  \n",
       "3   0.0  2.618883  4.770179  0.067875   0.0  \n",
       "4   0.0  2.618883  4.770179  0.067875   0.0  \n",
       "\n",
       "[5 rows x 1609 columns]"
      ]
     },
     "execution_count": 2,
     "metadata": {},
     "output_type": "execute_result"
    }
   ],
   "source": [
    "text_df = pd.read_csv(\"../dataset/text_embedding.csv\")\n",
    "\n",
    "audio_df = pd.read_csv(\"../dataset/audio_embedding.csv\")\n",
    "audio_df.head()\n",
    "text_df.head()\n"
   ]
  },
  {
   "cell_type": "markdown",
   "metadata": {},
   "source": [
    "1-disgust,angry,sad; 2-fear; 3-neutral; 4-happy; 5-surprise"
   ]
  },
  {
   "cell_type": "code",
   "execution_count": 3,
   "metadata": {},
   "outputs": [
    {
     "data": {
      "text/html": [
       "<div>\n",
       "<style scoped>\n",
       "    .dataframe tbody tr th:only-of-type {\n",
       "        vertical-align: middle;\n",
       "    }\n",
       "\n",
       "    .dataframe tbody tr th {\n",
       "        vertical-align: top;\n",
       "    }\n",
       "\n",
       "    .dataframe thead th {\n",
       "        text-align: right;\n",
       "    }\n",
       "</style>\n",
       "<table border=\"1\" class=\"dataframe\">\n",
       "  <thead>\n",
       "    <tr style=\"text-align: right;\">\n",
       "      <th></th>\n",
       "      <th>0</th>\n",
       "      <th>0.1</th>\n",
       "      <th>1</th>\n",
       "      <th>2</th>\n",
       "      <th>3</th>\n",
       "      <th>4</th>\n",
       "      <th>5</th>\n",
       "      <th>6</th>\n",
       "      <th>7</th>\n",
       "      <th>8</th>\n",
       "      <th>...</th>\n",
       "      <th>98</th>\n",
       "      <th>99</th>\n",
       "      <th>100</th>\n",
       "      <th>101</th>\n",
       "      <th>102</th>\n",
       "      <th>103</th>\n",
       "      <th>104</th>\n",
       "      <th>105</th>\n",
       "      <th>106</th>\n",
       "      <th>107</th>\n",
       "    </tr>\n",
       "  </thead>\n",
       "  <tbody>\n",
       "    <tr>\n",
       "      <th>0</th>\n",
       "      <td>3</td>\n",
       "      <td>-0.504281</td>\n",
       "      <td>-0.427365</td>\n",
       "      <td>-0.519557</td>\n",
       "      <td>-0.629859</td>\n",
       "      <td>-0.629859</td>\n",
       "      <td>-0.519913</td>\n",
       "      <td>-0.629859</td>\n",
       "      <td>-0.556203</td>\n",
       "      <td>-0.605106</td>\n",
       "      <td>...</td>\n",
       "      <td>-0.430297</td>\n",
       "      <td>-0.399582</td>\n",
       "      <td>-0.075815</td>\n",
       "      <td>-0.135701</td>\n",
       "      <td>-0.004715</td>\n",
       "      <td>-0.189843</td>\n",
       "      <td>0.161181</td>\n",
       "      <td>-0.371715</td>\n",
       "      <td>-0.199839</td>\n",
       "      <td>-0.186286</td>\n",
       "    </tr>\n",
       "    <tr>\n",
       "      <th>1</th>\n",
       "      <td>1</td>\n",
       "      <td>-0.110983</td>\n",
       "      <td>-0.103890</td>\n",
       "      <td>-0.063182</td>\n",
       "      <td>-0.114516</td>\n",
       "      <td>-0.112650</td>\n",
       "      <td>-0.172134</td>\n",
       "      <td>-0.225444</td>\n",
       "      <td>-0.192116</td>\n",
       "      <td>-0.175435</td>\n",
       "      <td>...</td>\n",
       "      <td>-0.163251</td>\n",
       "      <td>0.155345</td>\n",
       "      <td>-0.007225</td>\n",
       "      <td>0.039680</td>\n",
       "      <td>-0.186692</td>\n",
       "      <td>0.047228</td>\n",
       "      <td>0.170926</td>\n",
       "      <td>0.070092</td>\n",
       "      <td>0.553698</td>\n",
       "      <td>0.011350</td>\n",
       "    </tr>\n",
       "    <tr>\n",
       "      <th>2</th>\n",
       "      <td>3</td>\n",
       "      <td>-0.101387</td>\n",
       "      <td>-0.146695</td>\n",
       "      <td>-0.127515</td>\n",
       "      <td>-0.158159</td>\n",
       "      <td>-0.172775</td>\n",
       "      <td>-0.212269</td>\n",
       "      <td>-0.242705</td>\n",
       "      <td>-0.179039</td>\n",
       "      <td>-0.182775</td>\n",
       "      <td>...</td>\n",
       "      <td>0.667429</td>\n",
       "      <td>0.881873</td>\n",
       "      <td>0.712925</td>\n",
       "      <td>0.744448</td>\n",
       "      <td>0.596081</td>\n",
       "      <td>0.673980</td>\n",
       "      <td>0.845208</td>\n",
       "      <td>0.876801</td>\n",
       "      <td>0.844952</td>\n",
       "      <td>0.439054</td>\n",
       "    </tr>\n",
       "    <tr>\n",
       "      <th>3</th>\n",
       "      <td>2</td>\n",
       "      <td>-0.155329</td>\n",
       "      <td>-0.124418</td>\n",
       "      <td>-0.243442</td>\n",
       "      <td>-0.107044</td>\n",
       "      <td>-0.413908</td>\n",
       "      <td>-0.117588</td>\n",
       "      <td>-0.001165</td>\n",
       "      <td>-0.186451</td>\n",
       "      <td>-0.499862</td>\n",
       "      <td>...</td>\n",
       "      <td>0.200291</td>\n",
       "      <td>0.068006</td>\n",
       "      <td>0.034221</td>\n",
       "      <td>0.183618</td>\n",
       "      <td>0.210933</td>\n",
       "      <td>0.145808</td>\n",
       "      <td>-0.020882</td>\n",
       "      <td>-0.095218</td>\n",
       "      <td>-0.226382</td>\n",
       "      <td>-0.253818</td>\n",
       "    </tr>\n",
       "    <tr>\n",
       "      <th>4</th>\n",
       "      <td>3</td>\n",
       "      <td>-0.392306</td>\n",
       "      <td>-0.315623</td>\n",
       "      <td>-0.441369</td>\n",
       "      <td>-0.353499</td>\n",
       "      <td>-0.290997</td>\n",
       "      <td>-0.454479</td>\n",
       "      <td>-0.442850</td>\n",
       "      <td>-0.479907</td>\n",
       "      <td>-0.629859</td>\n",
       "      <td>...</td>\n",
       "      <td>0.247008</td>\n",
       "      <td>0.219731</td>\n",
       "      <td>0.275426</td>\n",
       "      <td>0.211315</td>\n",
       "      <td>0.314326</td>\n",
       "      <td>0.270123</td>\n",
       "      <td>0.117642</td>\n",
       "      <td>0.074828</td>\n",
       "      <td>-0.188160</td>\n",
       "      <td>-0.292886</td>\n",
       "    </tr>\n",
       "  </tbody>\n",
       "</table>\n",
       "<p>5 rows × 109 columns</p>\n",
       "</div>"
      ],
      "text/plain": [
       "   0       0.1         1         2         3         4         5         6  \\\n",
       "0  3 -0.504281 -0.427365 -0.519557 -0.629859 -0.629859 -0.519913 -0.629859   \n",
       "1  1 -0.110983 -0.103890 -0.063182 -0.114516 -0.112650 -0.172134 -0.225444   \n",
       "2  3 -0.101387 -0.146695 -0.127515 -0.158159 -0.172775 -0.212269 -0.242705   \n",
       "3  2 -0.155329 -0.124418 -0.243442 -0.107044 -0.413908 -0.117588 -0.001165   \n",
       "4  3 -0.392306 -0.315623 -0.441369 -0.353499 -0.290997 -0.454479 -0.442850   \n",
       "\n",
       "          7         8  ...        98        99       100       101       102  \\\n",
       "0 -0.556203 -0.605106  ... -0.430297 -0.399582 -0.075815 -0.135701 -0.004715   \n",
       "1 -0.192116 -0.175435  ... -0.163251  0.155345 -0.007225  0.039680 -0.186692   \n",
       "2 -0.179039 -0.182775  ...  0.667429  0.881873  0.712925  0.744448  0.596081   \n",
       "3 -0.186451 -0.499862  ...  0.200291  0.068006  0.034221  0.183618  0.210933   \n",
       "4 -0.479907 -0.629859  ...  0.247008  0.219731  0.275426  0.211315  0.314326   \n",
       "\n",
       "        103       104       105       106       107  \n",
       "0 -0.189843  0.161181 -0.371715 -0.199839 -0.186286  \n",
       "1  0.047228  0.170926  0.070092  0.553698  0.011350  \n",
       "2  0.673980  0.845208  0.876801  0.844952  0.439054  \n",
       "3  0.145808 -0.020882 -0.095218 -0.226382 -0.253818  \n",
       "4  0.270123  0.117642  0.074828 -0.188160 -0.292886  \n",
       "\n",
       "[5 rows x 109 columns]"
      ]
     },
     "execution_count": 3,
     "metadata": {},
     "output_type": "execute_result"
    }
   ],
   "source": [
    "#Processing audio sentiments data, divided into five levels, corresponding to text\n",
    "temp_df = audio_df\n",
    "temp_df = temp_df.replace(\"m_disgust\", 1)\n",
    "temp_df = temp_df.replace(\"f_disgust\", 1)\n",
    "temp_df = temp_df.replace(\"m_angry\", 1)\n",
    "temp_df = temp_df.replace(\"f_angry\", 1)\n",
    "temp_df = temp_df.replace(\"m_sad\", 1)\n",
    "temp_df = temp_df.replace(\"f_sad\", 1)\n",
    "\n",
    "\n",
    "temp_df = temp_df.replace(\"m_fear\", 2)\n",
    "temp_df = temp_df.replace(\"f_fear\", 2)\n",
    "\n",
    "temp_df = temp_df.replace(\"m_neutral\", 3)\n",
    "temp_df = temp_df.replace(\"f_neutral\", 3)\n",
    "\n",
    "temp_df = temp_df.replace(\"m_happy\", 4)\n",
    "temp_df = temp_df.replace(\"f_happy\", 4)\n",
    "\n",
    "temp_df = temp_df.replace(\"m_surprise\", 5)\n",
    "temp_df = temp_df.replace(\"f_surprise\", 5)\n",
    "temp_df.head()\n"
   ]
  },
  {
   "cell_type": "code",
   "execution_count": 4,
   "metadata": {},
   "outputs": [
    {
     "data": {
      "text/html": [
       "<div>\n",
       "<style scoped>\n",
       "    .dataframe tbody tr th:only-of-type {\n",
       "        vertical-align: middle;\n",
       "    }\n",
       "\n",
       "    .dataframe tbody tr th {\n",
       "        vertical-align: top;\n",
       "    }\n",
       "\n",
       "    .dataframe thead th {\n",
       "        text-align: right;\n",
       "    }\n",
       "</style>\n",
       "<table border=\"1\" class=\"dataframe\">\n",
       "  <thead>\n",
       "    <tr style=\"text-align: right;\">\n",
       "      <th></th>\n",
       "      <th>0.1</th>\n",
       "      <th>1</th>\n",
       "      <th>2</th>\n",
       "      <th>3</th>\n",
       "      <th>4</th>\n",
       "      <th>5</th>\n",
       "      <th>6</th>\n",
       "      <th>7</th>\n",
       "      <th>8</th>\n",
       "      <th>9</th>\n",
       "      <th>...</th>\n",
       "      <th>98</th>\n",
       "      <th>99</th>\n",
       "      <th>100</th>\n",
       "      <th>101</th>\n",
       "      <th>102</th>\n",
       "      <th>103</th>\n",
       "      <th>104</th>\n",
       "      <th>105</th>\n",
       "      <th>106</th>\n",
       "      <th>107</th>\n",
       "    </tr>\n",
       "  </thead>\n",
       "  <tbody>\n",
       "    <tr>\n",
       "      <th>6</th>\n",
       "      <td>0.107176</td>\n",
       "      <td>0.005858</td>\n",
       "      <td>-0.165378</td>\n",
       "      <td>-0.042031</td>\n",
       "      <td>-0.016324</td>\n",
       "      <td>-0.118086</td>\n",
       "      <td>-0.090499</td>\n",
       "      <td>-0.191589</td>\n",
       "      <td>-0.182541</td>\n",
       "      <td>0.426354</td>\n",
       "      <td>...</td>\n",
       "      <td>0.049141</td>\n",
       "      <td>0.055161</td>\n",
       "      <td>-0.197144</td>\n",
       "      <td>-0.324759</td>\n",
       "      <td>-0.248146</td>\n",
       "      <td>-0.331781</td>\n",
       "      <td>-0.405820</td>\n",
       "      <td>-0.436498</td>\n",
       "      <td>-0.466729</td>\n",
       "      <td>-0.434224</td>\n",
       "    </tr>\n",
       "    <tr>\n",
       "      <th>12</th>\n",
       "      <td>-0.069141</td>\n",
       "      <td>-0.012695</td>\n",
       "      <td>-0.038202</td>\n",
       "      <td>0.163442</td>\n",
       "      <td>-0.193723</td>\n",
       "      <td>-0.178407</td>\n",
       "      <td>0.279102</td>\n",
       "      <td>0.360952</td>\n",
       "      <td>-0.101620</td>\n",
       "      <td>-0.028517</td>\n",
       "      <td>...</td>\n",
       "      <td>0.321243</td>\n",
       "      <td>0.097413</td>\n",
       "      <td>0.020248</td>\n",
       "      <td>-0.024512</td>\n",
       "      <td>-0.096788</td>\n",
       "      <td>-0.258461</td>\n",
       "      <td>-0.264746</td>\n",
       "      <td>-0.384613</td>\n",
       "      <td>-0.225357</td>\n",
       "      <td>-0.305030</td>\n",
       "    </tr>\n",
       "    <tr>\n",
       "      <th>25</th>\n",
       "      <td>0.191594</td>\n",
       "      <td>1.120439</td>\n",
       "      <td>0.464091</td>\n",
       "      <td>1.038317</td>\n",
       "      <td>0.415505</td>\n",
       "      <td>0.247260</td>\n",
       "      <td>-0.113227</td>\n",
       "      <td>-0.161013</td>\n",
       "      <td>0.011642</td>\n",
       "      <td>0.071186</td>\n",
       "      <td>...</td>\n",
       "      <td>-0.341070</td>\n",
       "      <td>-0.365121</td>\n",
       "      <td>-0.394818</td>\n",
       "      <td>-0.095435</td>\n",
       "      <td>-0.629859</td>\n",
       "      <td>-0.582577</td>\n",
       "      <td>-0.264739</td>\n",
       "      <td>-0.629859</td>\n",
       "      <td>-0.629859</td>\n",
       "      <td>-0.565380</td>\n",
       "    </tr>\n",
       "    <tr>\n",
       "      <th>27</th>\n",
       "      <td>0.070384</td>\n",
       "      <td>0.187052</td>\n",
       "      <td>-0.250209</td>\n",
       "      <td>-0.308157</td>\n",
       "      <td>-0.144561</td>\n",
       "      <td>0.208861</td>\n",
       "      <td>-0.257057</td>\n",
       "      <td>-0.491679</td>\n",
       "      <td>-0.010079</td>\n",
       "      <td>0.404974</td>\n",
       "      <td>...</td>\n",
       "      <td>-0.629859</td>\n",
       "      <td>-0.368926</td>\n",
       "      <td>-0.477797</td>\n",
       "      <td>-0.372338</td>\n",
       "      <td>-0.374255</td>\n",
       "      <td>-0.338099</td>\n",
       "      <td>-0.304441</td>\n",
       "      <td>-0.263491</td>\n",
       "      <td>-0.179632</td>\n",
       "      <td>-0.233453</td>\n",
       "    </tr>\n",
       "    <tr>\n",
       "      <th>28</th>\n",
       "      <td>-0.527099</td>\n",
       "      <td>-0.629859</td>\n",
       "      <td>-0.221839</td>\n",
       "      <td>0.111992</td>\n",
       "      <td>-0.248225</td>\n",
       "      <td>-0.158702</td>\n",
       "      <td>-0.505763</td>\n",
       "      <td>-0.629859</td>\n",
       "      <td>-0.492404</td>\n",
       "      <td>-0.074787</td>\n",
       "      <td>...</td>\n",
       "      <td>0.180881</td>\n",
       "      <td>0.023598</td>\n",
       "      <td>-0.467709</td>\n",
       "      <td>-0.579216</td>\n",
       "      <td>-0.296176</td>\n",
       "      <td>-0.414056</td>\n",
       "      <td>-0.432907</td>\n",
       "      <td>-0.364209</td>\n",
       "      <td>-0.274338</td>\n",
       "      <td>-0.238519</td>\n",
       "    </tr>\n",
       "  </tbody>\n",
       "</table>\n",
       "<p>5 rows × 108 columns</p>\n",
       "</div>"
      ],
      "text/plain": [
       "         0.1         1         2         3         4         5         6  \\\n",
       "6   0.107176  0.005858 -0.165378 -0.042031 -0.016324 -0.118086 -0.090499   \n",
       "12 -0.069141 -0.012695 -0.038202  0.163442 -0.193723 -0.178407  0.279102   \n",
       "25  0.191594  1.120439  0.464091  1.038317  0.415505  0.247260 -0.113227   \n",
       "27  0.070384  0.187052 -0.250209 -0.308157 -0.144561  0.208861 -0.257057   \n",
       "28 -0.527099 -0.629859 -0.221839  0.111992 -0.248225 -0.158702 -0.505763   \n",
       "\n",
       "           7         8         9  ...        98        99       100       101  \\\n",
       "6  -0.191589 -0.182541  0.426354  ...  0.049141  0.055161 -0.197144 -0.324759   \n",
       "12  0.360952 -0.101620 -0.028517  ...  0.321243  0.097413  0.020248 -0.024512   \n",
       "25 -0.161013  0.011642  0.071186  ... -0.341070 -0.365121 -0.394818 -0.095435   \n",
       "27 -0.491679 -0.010079  0.404974  ... -0.629859 -0.368926 -0.477797 -0.372338   \n",
       "28 -0.629859 -0.492404 -0.074787  ...  0.180881  0.023598 -0.467709 -0.579216   \n",
       "\n",
       "         102       103       104       105       106       107  \n",
       "6  -0.248146 -0.331781 -0.405820 -0.436498 -0.466729 -0.434224  \n",
       "12 -0.096788 -0.258461 -0.264746 -0.384613 -0.225357 -0.305030  \n",
       "25 -0.629859 -0.582577 -0.264739 -0.629859 -0.629859 -0.565380  \n",
       "27 -0.374255 -0.338099 -0.304441 -0.263491 -0.179632 -0.233453  \n",
       "28 -0.296176 -0.414056 -0.432907 -0.364209 -0.274338 -0.238519  \n",
       "\n",
       "[5 rows x 108 columns]"
      ]
     },
     "execution_count": 4,
     "metadata": {},
     "output_type": "execute_result"
    }
   ],
   "source": [
    "#1. To process the sound data into labels, first use the mean method, but also can use the random matching method\n",
    "label_1_df = temp_df[temp_df['0']==1].drop(['0'], axis=1)\n",
    "label_2_df = temp_df[temp_df['0']==2].drop(['0'], axis=1)\n",
    "label_3_df = temp_df[temp_df['0']==3].drop(['0'], axis=1)\n",
    "label_4_df = temp_df[temp_df['0']==4].drop(['0'], axis=1)\n",
    "label_5_df = temp_df[temp_df['0']==5].drop(['0'], axis=1)\n",
    "label_5_df.head()"
   ]
  },
  {
   "cell_type": "code",
   "execution_count": 5,
   "metadata": {},
   "outputs": [
    {
     "data": {
      "text/plain": [
       "(108,)"
      ]
     },
     "execution_count": 5,
     "metadata": {},
     "output_type": "execute_result"
    }
   ],
   "source": [
    "label_1_mean_arr = np.array(label_1_df.mean(axis=0))\n",
    "label_2_mean_arr = np.array(label_2_df.mean(axis=0))\n",
    "label_3_mean_arr = np.array(label_3_df.mean(axis=0))\n",
    "label_4_mean_arr = np.array(label_4_df.mean(axis=0))\n",
    "label_5_mean_arr = np.array(label_5_df.mean(axis=0))\n",
    "label_5_mean_arr.shape"
   ]
  },
  {
   "cell_type": "code",
   "execution_count": 6,
   "metadata": {},
   "outputs": [
    {
     "data": {
      "text/plain": [
       "RangeIndex(start=0, stop=8603, step=1)"
      ]
     },
     "execution_count": 6,
     "metadata": {},
     "output_type": "execute_result"
    }
   ],
   "source": [
    "text_df.index"
   ]
  },
  {
   "cell_type": "code",
   "execution_count": 7,
   "metadata": {},
   "outputs": [
    {
     "name": "stderr",
     "output_type": "stream",
     "text": [
      "/home/ubuntu/miniconda3/envs/audio1/lib/python3.7/site-packages/IPython/core/interactiveshell.py:3444: PerformanceWarning: DataFrame is highly fragmented.  This is usually the result of calling `frame.insert` many times, which has poor performance.  Consider joining all columns at once using pd.concat(axis=1) instead.  To get a de-fragmented frame, use `newframe = frame.copy()`\n",
      "  if (await self.run_code(code, result,  async_=asy)):\n"
     ]
    }
   ],
   "source": [
    "label_temp_df = pd.DataFrame()\n",
    "for index in text_df.index:\n",
    "    if text_df['0'].get(index) == 1:\n",
    "        label_temp_df.insert(loc=len(label_temp_df.columns), \\\n",
    "            column = len(label_temp_df.columns),value=label_1_mean_arr)\n",
    "    elif text_df['0'].get(index) == 2:\n",
    "        label_temp_df.insert(loc=len(label_temp_df.columns), \n",
    "        column = len(label_temp_df.columns),value=label_2_mean_arr)\n",
    "    elif text_df['0'].get(index) == 3:\n",
    "        label_temp_df.insert(loc=len(label_temp_df.columns), \\\n",
    "            column = len(label_temp_df.columns),value=label_3_mean_arr)\n",
    "    elif text_df['0'].get(index) == 4:\n",
    "        label_temp_df.insert(loc=len(label_temp_df.columns), \\\n",
    "            column = len(label_temp_df.columns),value=label_4_mean_arr)\n",
    "    else:\n",
    "        label_temp_df.insert(loc=len(label_temp_df.columns), \\\n",
    "            column = len(label_temp_df.columns),value=label_5_mean_arr)"
   ]
  },
  {
   "cell_type": "code",
   "execution_count": 8,
   "metadata": {},
   "outputs": [
    {
     "data": {
      "text/html": [
       "<div>\n",
       "<style scoped>\n",
       "    .dataframe tbody tr th:only-of-type {\n",
       "        vertical-align: middle;\n",
       "    }\n",
       "\n",
       "    .dataframe tbody tr th {\n",
       "        vertical-align: top;\n",
       "    }\n",
       "\n",
       "    .dataframe thead th {\n",
       "        text-align: right;\n",
       "    }\n",
       "</style>\n",
       "<table border=\"1\" class=\"dataframe\">\n",
       "  <thead>\n",
       "    <tr style=\"text-align: right;\">\n",
       "      <th></th>\n",
       "      <th>0</th>\n",
       "      <th>1</th>\n",
       "      <th>2</th>\n",
       "      <th>3</th>\n",
       "      <th>4</th>\n",
       "      <th>5</th>\n",
       "      <th>6</th>\n",
       "      <th>7</th>\n",
       "      <th>8</th>\n",
       "      <th>9</th>\n",
       "      <th>...</th>\n",
       "      <th>8593</th>\n",
       "      <th>8594</th>\n",
       "      <th>8595</th>\n",
       "      <th>8596</th>\n",
       "      <th>8597</th>\n",
       "      <th>8598</th>\n",
       "      <th>8599</th>\n",
       "      <th>8600</th>\n",
       "      <th>8601</th>\n",
       "      <th>8602</th>\n",
       "    </tr>\n",
       "  </thead>\n",
       "  <tbody>\n",
       "    <tr>\n",
       "      <th>0</th>\n",
       "      <td>-0.019869</td>\n",
       "      <td>0.018819</td>\n",
       "      <td>-0.006503</td>\n",
       "      <td>-0.019869</td>\n",
       "      <td>-0.019869</td>\n",
       "      <td>0.018819</td>\n",
       "      <td>-0.159859</td>\n",
       "      <td>0.018819</td>\n",
       "      <td>0.018819</td>\n",
       "      <td>-0.159859</td>\n",
       "      <td>...</td>\n",
       "      <td>-0.006503</td>\n",
       "      <td>-0.006503</td>\n",
       "      <td>0.018819</td>\n",
       "      <td>-0.019869</td>\n",
       "      <td>-0.054535</td>\n",
       "      <td>0.018819</td>\n",
       "      <td>-0.054535</td>\n",
       "      <td>0.018819</td>\n",
       "      <td>-0.019869</td>\n",
       "      <td>0.018819</td>\n",
       "    </tr>\n",
       "    <tr>\n",
       "      <th>1</th>\n",
       "      <td>0.018758</td>\n",
       "      <td>0.068565</td>\n",
       "      <td>0.017683</td>\n",
       "      <td>0.018758</td>\n",
       "      <td>0.018758</td>\n",
       "      <td>0.068565</td>\n",
       "      <td>-0.159620</td>\n",
       "      <td>0.068565</td>\n",
       "      <td>0.068565</td>\n",
       "      <td>-0.159620</td>\n",
       "      <td>...</td>\n",
       "      <td>0.017683</td>\n",
       "      <td>0.017683</td>\n",
       "      <td>0.068565</td>\n",
       "      <td>0.018758</td>\n",
       "      <td>-0.021704</td>\n",
       "      <td>0.068565</td>\n",
       "      <td>-0.021704</td>\n",
       "      <td>0.068565</td>\n",
       "      <td>0.018758</td>\n",
       "      <td>0.068565</td>\n",
       "    </tr>\n",
       "    <tr>\n",
       "      <th>2</th>\n",
       "      <td>0.017629</td>\n",
       "      <td>0.089554</td>\n",
       "      <td>-0.001863</td>\n",
       "      <td>0.017629</td>\n",
       "      <td>0.017629</td>\n",
       "      <td>0.089554</td>\n",
       "      <td>-0.186045</td>\n",
       "      <td>0.089554</td>\n",
       "      <td>0.089554</td>\n",
       "      <td>-0.186045</td>\n",
       "      <td>...</td>\n",
       "      <td>-0.001863</td>\n",
       "      <td>-0.001863</td>\n",
       "      <td>0.089554</td>\n",
       "      <td>0.017629</td>\n",
       "      <td>-0.025155</td>\n",
       "      <td>0.089554</td>\n",
       "      <td>-0.025155</td>\n",
       "      <td>0.089554</td>\n",
       "      <td>0.017629</td>\n",
       "      <td>0.089554</td>\n",
       "    </tr>\n",
       "    <tr>\n",
       "      <th>3</th>\n",
       "      <td>0.009359</td>\n",
       "      <td>0.113345</td>\n",
       "      <td>0.011532</td>\n",
       "      <td>0.009359</td>\n",
       "      <td>0.009359</td>\n",
       "      <td>0.113345</td>\n",
       "      <td>-0.198795</td>\n",
       "      <td>0.113345</td>\n",
       "      <td>0.113345</td>\n",
       "      <td>-0.198795</td>\n",
       "      <td>...</td>\n",
       "      <td>0.011532</td>\n",
       "      <td>0.011532</td>\n",
       "      <td>0.113345</td>\n",
       "      <td>0.009359</td>\n",
       "      <td>-0.032260</td>\n",
       "      <td>0.113345</td>\n",
       "      <td>-0.032260</td>\n",
       "      <td>0.113345</td>\n",
       "      <td>0.009359</td>\n",
       "      <td>0.113345</td>\n",
       "    </tr>\n",
       "    <tr>\n",
       "      <th>4</th>\n",
       "      <td>-0.048684</td>\n",
       "      <td>0.044502</td>\n",
       "      <td>-0.033004</td>\n",
       "      <td>-0.048684</td>\n",
       "      <td>-0.048684</td>\n",
       "      <td>0.044502</td>\n",
       "      <td>-0.202923</td>\n",
       "      <td>0.044502</td>\n",
       "      <td>0.044502</td>\n",
       "      <td>-0.202923</td>\n",
       "      <td>...</td>\n",
       "      <td>-0.033004</td>\n",
       "      <td>-0.033004</td>\n",
       "      <td>0.044502</td>\n",
       "      <td>-0.048684</td>\n",
       "      <td>-0.063656</td>\n",
       "      <td>0.044502</td>\n",
       "      <td>-0.063656</td>\n",
       "      <td>0.044502</td>\n",
       "      <td>-0.048684</td>\n",
       "      <td>0.044502</td>\n",
       "    </tr>\n",
       "  </tbody>\n",
       "</table>\n",
       "<p>5 rows × 8603 columns</p>\n",
       "</div>"
      ],
      "text/plain": [
       "       0         1         2         3         4         5         6     \\\n",
       "0 -0.019869  0.018819 -0.006503 -0.019869 -0.019869  0.018819 -0.159859   \n",
       "1  0.018758  0.068565  0.017683  0.018758  0.018758  0.068565 -0.159620   \n",
       "2  0.017629  0.089554 -0.001863  0.017629  0.017629  0.089554 -0.186045   \n",
       "3  0.009359  0.113345  0.011532  0.009359  0.009359  0.113345 -0.198795   \n",
       "4 -0.048684  0.044502 -0.033004 -0.048684 -0.048684  0.044502 -0.202923   \n",
       "\n",
       "       7         8         9     ...      8593      8594      8595      8596  \\\n",
       "0  0.018819  0.018819 -0.159859  ... -0.006503 -0.006503  0.018819 -0.019869   \n",
       "1  0.068565  0.068565 -0.159620  ...  0.017683  0.017683  0.068565  0.018758   \n",
       "2  0.089554  0.089554 -0.186045  ... -0.001863 -0.001863  0.089554  0.017629   \n",
       "3  0.113345  0.113345 -0.198795  ...  0.011532  0.011532  0.113345  0.009359   \n",
       "4  0.044502  0.044502 -0.202923  ... -0.033004 -0.033004  0.044502 -0.048684   \n",
       "\n",
       "       8597      8598      8599      8600      8601      8602  \n",
       "0 -0.054535  0.018819 -0.054535  0.018819 -0.019869  0.018819  \n",
       "1 -0.021704  0.068565 -0.021704  0.068565  0.018758  0.068565  \n",
       "2 -0.025155  0.089554 -0.025155  0.089554  0.017629  0.089554  \n",
       "3 -0.032260  0.113345 -0.032260  0.113345  0.009359  0.113345  \n",
       "4 -0.063656  0.044502 -0.063656  0.044502 -0.048684  0.044502  \n",
       "\n",
       "[5 rows x 8603 columns]"
      ]
     },
     "execution_count": 8,
     "metadata": {},
     "output_type": "execute_result"
    }
   ],
   "source": [
    "label_temp_df.head()"
   ]
  },
  {
   "cell_type": "code",
   "execution_count": 9,
   "metadata": {},
   "outputs": [
    {
     "data": {
      "text/plain": [
       "(8603, 108)"
      ]
     },
     "execution_count": 9,
     "metadata": {},
     "output_type": "execute_result"
    }
   ],
   "source": [
    "label_temp_df=pd.DataFrame(label_temp_df.values.T,index=label_temp_df.columns,columns=label_temp_df.index)   #转置\n",
    "label_Y = np.array(label_temp_df)\n",
    "label_Y.shape"
   ]
  },
  {
   "cell_type": "code",
   "execution_count": 10,
   "metadata": {},
   "outputs": [
    {
     "data": {
      "text/plain": [
       "(8603, 1608)"
      ]
     },
     "execution_count": 10,
     "metadata": {},
     "output_type": "execute_result"
    }
   ],
   "source": [
    "text_tmep_df = text_df\n",
    "text_X = text_tmep_df.drop(['0'], axis=1)\n",
    "text_X = np.array(text_X)\n",
    "text_X.shape"
   ]
  },
  {
   "cell_type": "code",
   "execution_count": 11,
   "metadata": {},
   "outputs": [
    {
     "name": "stdout",
     "output_type": "stream",
     "text": [
      "(6452, 1608)\n",
      "(6452, 108)\n",
      "(2151, 1608)\n",
      "(2151, 108)\n"
     ]
    }
   ],
   "source": [
    "X_train, X_test, Y_train, Y_test = train_test_split( text_X, label_Y, test_size=0.25, random_state=42)\n",
    "print(X_train.shape)\n",
    "print(Y_train.shape)\n",
    "print(X_test.shape)\n",
    "print(Y_test.shape)"
   ]
  },
  {
   "cell_type": "code",
   "execution_count": 12,
   "metadata": {},
   "outputs": [
    {
     "name": "stdout",
     "output_type": "stream",
     "text": [
      "(6452, 1608, 1)\n",
      "(6452, 108, 1)\n"
     ]
    }
   ],
   "source": [
    "X_train = X_train.reshape(X_train.shape[0], X_train.shape[1], 1)\n",
    "Y_train = Y_train.reshape(Y_train.shape[0], Y_train.shape[1], 1)\n",
    "print(X_train.shape)\n",
    "print(Y_train.shape)\n"
   ]
  },
  {
   "cell_type": "code",
   "execution_count": 48,
   "metadata": {},
   "outputs": [
    {
     "name": "stdout",
     "output_type": "stream",
     "text": [
      "Model: \"model_8\"\n",
      "_________________________________________________________________\n",
      " Layer (type)                Output Shape              Param #   \n",
      "=================================================================\n",
      " input_10 (InputLayer)       [(None, 1608, 1)]         0         \n",
      "                                                                 \n",
      " dense_27 (Dense)            (None, 1608, 108)         216       \n",
      "                                                                 \n",
      " attention_9 (Attention)     (None, 64)                25488     \n",
      "                                                                 \n",
      " dense_28 (Dense)            (None, 108)               7020      \n",
      "                                                                 \n",
      "=================================================================\n",
      "Total params: 32,724\n",
      "Trainable params: 32,724\n",
      "Non-trainable params: 0\n",
      "_________________________________________________________________\n"
     ]
    }
   ],
   "source": [
    "# Define/compile the model.\n",
    "model_input = Input(shape=(1608, 1))\n",
    "x = Dense(108)(model_input)\n",
    "x = Attention(units=64)(x)\n",
    "x = Dense(108)(x)\n",
    "model = Model(model_input, x)\n",
    "\n",
    "model.summary()"
   ]
  },
  {
   "cell_type": "code",
   "execution_count": 39,
   "metadata": {},
   "outputs": [],
   "source": [
    "# Cosine Loss\n",
    "import tensorflow as tf\n",
    "#high efficiency\n",
    "def getAcc(predict, label):\n",
    "    return -tf.losses.cosine_similarity(predict, label)"
   ]
  },
  {
   "cell_type": "code",
   "execution_count": 40,
   "metadata": {},
   "outputs": [],
   "source": [
    "batch_size = 16\n",
    "epochs = 50"
   ]
  },
  {
   "cell_type": "code",
   "execution_count": 41,
   "metadata": {},
   "outputs": [],
   "source": [
    "from keras.callbacks import ReduceLROnPlateau\n",
    "lr_reducer = ReduceLROnPlateau(factor=np.sqrt(0.1),\n",
    "                               cooldown=0,\n",
    "                               patience=5,\n",
    "                               verbose=1,\n",
    "                               min_lr=0.5e-6)\n",
    "callbacks = [lr_reducer]"
   ]
  },
  {
   "cell_type": "code",
   "execution_count": 43,
   "metadata": {},
   "outputs": [
    {
     "name": "stdout",
     "output_type": "stream",
     "text": [
      "Epoch 1/5\n",
      "202/202 [==============================] - 163s 804ms/step - loss: 0.0112 - getAcc: 0.9131 - val_loss: 0.0108 - val_getAcc: 0.9165 - lr: 0.0010\n",
      "Epoch 2/5\n",
      "202/202 [==============================] - 170s 844ms/step - loss: 0.0110 - getAcc: 0.9141 - val_loss: 0.0106 - val_getAcc: 0.9168 - lr: 0.0010\n",
      "Epoch 3/5\n",
      "202/202 [==============================] - 173s 858ms/step - loss: 0.0109 - getAcc: 0.9145 - val_loss: 0.0110 - val_getAcc: 0.9160 - lr: 0.0010\n",
      "Epoch 4/5\n",
      "202/202 [==============================] - 175s 868ms/step - loss: 0.0110 - getAcc: 0.9142 - val_loss: 0.0107 - val_getAcc: 0.9171 - lr: 0.0010\n",
      "Epoch 5/5\n",
      "202/202 [==============================] - 175s 868ms/step - loss: 0.0108 - getAcc: 0.9147 - val_loss: 0.0107 - val_getAcc: 0.9168 - lr: 0.0010\n"
     ]
    }
   ],
   "source": [
    "# train.\n",
    "model.compile(loss=\"mse\", optimizer=\"adam\", metrics=[getAcc])\n",
    "model_history = model.fit(X_train, Y_train, validation_data=(X_test, Y_test), \n",
    "                batch_size = 32, verbose = 1, epochs=5, callbacks=callbacks)"
   ]
  },
  {
   "cell_type": "code",
   "execution_count": 44,
   "metadata": {},
   "outputs": [],
   "source": [
    "import matplotlib.pyplot as plt\n",
    "\n",
    "def create_plot(model_history):\n",
    "    plt.plot(model_history.history['loss'])\n",
    "    plt.plot(model_history.history['val_loss'])\n",
    "    plt.title('model loss')\n",
    "    plt.ylabel('loss')\n",
    "    plt.xlabel('epoch')\n",
    "    plt.legend(['train', 'test'], loc='upper right')\n",
    "    plt.show()\n",
    "\n",
    "def create_plot_acc(model_history):\n",
    "    plt.plot(model_history.history['getAcc'])\n",
    "    plt.plot(model_history.history['val_getAcc'])\n",
    "    plt.title('model acc')\n",
    "    plt.ylabel('acc')\n",
    "    plt.xlabel('epoch')\n",
    "    plt.legend(['train', 'test'], loc='lower right')\n",
    "    plt.show()"
   ]
  },
  {
   "cell_type": "code",
   "execution_count": 45,
   "metadata": {},
   "outputs": [
    {
     "data": {
      "image/png": "[encoded data removed]",
      "text/plain": [
       "<Figure size 432x288 with 1 Axes>"
      ]
     },
     "metadata": {
      "needs_background": "light"
     },
     "output_type": "display_data"
    },
    {
     "data": {
      "image/png": "[encoded data removed]",
      "text/plain": [
       "<Figure size 432x288 with 1 Axes>"
      ]
     },
     "metadata": {
      "needs_background": "light"
     },
     "output_type": "display_data"
    }
   ],
   "source": [
    "create_plot(model_history)\n",
    "create_plot_acc(model_history)"
   ]
  },
  {
   "cell_type": "code",
   "execution_count": 44,
   "metadata": {},
   "outputs": [
    {
     "name": "stdout",
     "output_type": "stream",
     "text": [
      "(2151, 108)\n",
      "(2151, 108)\n"
     ]
    }
   ],
   "source": [
    "# test save/reload model.\n",
    "pred1 = model.predict(X_test)\n",
    "print(pred1.shape)\n",
    "print(Y_test.shape)"
   ]
  },
  {
   "cell_type": "code",
   "execution_count": 45,
   "metadata": {},
   "outputs": [],
   "source": [
    "from sklearn.metrics.pairwise import cosine_similarity\n",
    "\n",
    "def getCosAcc1(predict, label):\n",
    "    acc = 0\n",
    "    sum = 0\n",
    "    for i in range(predict.shape[0]):\n",
    "        sum += cosine_similarity(predict[i].reshape(1, -1), label[i].reshape(1, -1))\n",
    "    acc = sum / predict.shape[0]\n",
    "    return acc"
   ]
  },
  {
   "cell_type": "code",
   "execution_count": 46,
   "metadata": {},
   "outputs": [
    {
     "data": {
      "text/plain": [
       "array([[0.91682955]])"
      ]
     },
     "execution_count": 46,
     "metadata": {},
     "output_type": "execute_result"
    }
   ],
   "source": [
    "getCosAcc1(pred1, Y_test)"
   ]
  },
  {
   "cell_type": "code",
   "execution_count": 47,
   "metadata": {},
   "outputs": [],
   "source": [
    "# test save/reload model.\n",
    "pred1 = model.predict(X_test)\n",
    "model.save('mapping_model.h5')\n",
    "model_h5 = load_model('mapping_model.h5', custom_objects={'Attention': Attention, 'getAcc':getAcc})\n",
    "pred2 = model_h5.predict(X_test)\n",
    "np.testing.assert_almost_equal(pred1, pred2)"
   ]
  },
  {
   "cell_type": "code",
   "execution_count": 49,
   "metadata": {},
   "outputs": [],
   "source": [
    "model_h5 = load_model('mapping_model.h5', custom_objects={'Attention': Attention, 'getAcc':getAcc})\n",
    "pred1 = model_h5.predict(X_train)\n",
    "pred2 = model_h5.predict(X_test)"
   ]
  },
  {
   "cell_type": "code",
   "execution_count": 50,
   "metadata": {},
   "outputs": [
    {
     "data": {
      "text/plain": [
       "(5, 108)"
      ]
     },
     "execution_count": 50,
     "metadata": {},
     "output_type": "execute_result"
    }
   ],
   "source": [
    "label_set = np.vstack([label_1_mean_arr.reshape(1, 108), label_2_mean_arr.reshape(1, 108),\n",
    "label_3_mean_arr.reshape(1, 108), label_4_mean_arr.reshape(1, 108), label_5_mean_arr.reshape(1, 108)])\n",
    "label_set.shape"
   ]
  },
  {
   "cell_type": "code",
   "execution_count": 57,
   "metadata": {},
   "outputs": [
    {
     "data": {
      "text/plain": [
       "[0.9613804637810579,\n",
       " 0.922156943458926,\n",
       " 0.7243342266264883,\n",
       " 0.9909960223659974,\n",
       " 0.9705123989747125]"
      ]
     },
     "execution_count": 57,
     "metadata": {},
     "output_type": "execute_result"
    }
   ],
   "source": [
    "from sklearn.metrics.pairwise import cosine_similarity\n",
    "results = []\n",
    "for i in range(5): \n",
    "    results.append(cosine_similarity(pred1[1].reshape(1, -1), label_set[i].reshape(1, -1))[0][0])\n",
    "results"
   ]
  },
  {
   "cell_type": "code",
   "execution_count": 58,
   "metadata": {},
   "outputs": [
    {
     "data": {
      "text/plain": [
       "[0.004470112268874556,\n",
       " 0.010288745159185604,\n",
       " 0.029082795936701804,\n",
       " 0.005262473047269254,\n",
       " 0.003986450522770615]"
      ]
     },
     "execution_count": 58,
     "metadata": {},
     "output_type": "execute_result"
    }
   ],
   "source": [
    "#MSE\n",
    "results = []\n",
    "for i in range(5):\n",
    "    results.append(np.mean((pred1[1].reshape(1, -1) - label_set[i].reshape(1, -1)) ** 2))\n",
    "results"
   ]
  },
  {
   "cell_type": "code",
   "execution_count": 15,
   "metadata": {},
   "outputs": [],
   "source": []
  },
  {
   "cell_type": "code",
   "execution_count": null,
   "metadata": {},
   "outputs": [],
   "source": [
    "\n",
    "AEs = {}#Dictionary of Audio Embedding we extracted from the dataset, the\n",
    "# key to the dictionary is the roots of the corresponding audio file, and\n",
    "# the value is the corresponding audio Embedding.\n",
    "\n",
    "pred = None\n",
    "#Predicted Audio Embedding\n",
    "\n",
    "#We implement similarity calculation between pred and AEs.\n",
    "\n",
    "from sklearn.metrics.pairwise import cosine_similarity\n",
    "results = {}\n",
    "for key, value in AEs:\n",
    "    results[key] = cosine_similarity(pred.reshape(1, -1), value.reshape(1, -1))\n",
    "    #MSE: results[key] = np.mean((pred1[1].reshape(1, -1) - label_set[i].reshape(1, -1)) ** 2)\n",
    "\n",
    "sortedList = sorted(results.items, key=lambda kv:(kv(1), kv[0]), reverse=True)\n",
    "#Reverse sorting based on dictionary values.\n",
    "\n",
    "sortedList[0][0]\n",
    "#The first element of the first tuple in the list is the path of the sound file."
   ]
  },
  {
   "cell_type": "code",
   "execution_count": null,
   "metadata": {},
   "outputs": [],
   "source": []
  },
  {
   "cell_type": "code",
   "execution_count": null,
   "metadata": {},
   "outputs": [],
   "source": []
  },
  {
   "cell_type": "code",
   "execution_count": null,
   "metadata": {},
   "outputs": [],
   "source": []
  },
  {
   "cell_type": "code",
   "execution_count": null,
   "metadata": {},
   "outputs": [],
   "source": []
  },
  {
   "cell_type": "code",
   "execution_count": null,
   "metadata": {},
   "outputs": [],
   "source": []
  },
  {
   "cell_type": "code",
   "execution_count": null,
   "metadata": {},
   "outputs": [],
   "source": []
  }
 ],
 "metadata": {
  "interpreter": {
   "hash": "efe33e4e0528b1633341ae52640fb114490bde57705687440dfd17ecb56d62bc"
  },
  "kernelspec": {
   "display_name": "Python 3.7.5 (conda)",
   "language": "python",
   "name": "python3"
  },
  "language_info": {
   "codemirror_mode": {
    "name": "ipython",
    "version": 3
   },
   "file_extension": ".py",
   "mimetype": "text/x-python",
   "name": "python",
   "nbconvert_exporter": "python",
   "pygments_lexer": "ipython3",
   "version": "3.7.5"
  },
  "orig_nbformat": 4
 },
 "nbformat": 4,
 "nbformat_minor": 2
}