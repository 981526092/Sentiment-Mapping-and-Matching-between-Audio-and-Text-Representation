{
 "cells": [
  {
   "cell_type": "code",
   "execution_count": 1,
   "metadata": {},
   "outputs": [],
   "source": [
    "from keras.layers import Input, Dense, Embedding, Conv2D, MaxPool2D\n",
    "from keras.layers import Reshape, Flatten, Dropout, Concatenate\n",
    "from tensorflow.keras.optimizers import Adam\n",
    "from keras.models import Model\n",
    "from sklearn.model_selection import train_test_split\n",
    "import pandas as pd\n",
    "import numpy as np\n",
    "\n",
    "from keras.utils import np_utils\n",
    "from sklearn.preprocessing import LabelEncoder\n",
    "\n",
    "from attention import Attention"
   ]
  },
  {
   "cell_type": "code",
   "execution_count": 2,
   "metadata": {},
   "outputs": [
    {
     "data": {
      "text/html": [
       "<div>\n",
       "<style scoped>\n",
       "    .dataframe tbody tr th:only-of-type {\n",
       "        vertical-align: middle;\n",
       "    }\n",
       "\n",
       "    .dataframe tbody tr th {\n",
       "        vertical-align: top;\n",
       "    }\n",
       "\n",
       "    .dataframe thead th {\n",
       "        text-align: right;\n",
       "    }\n",
       "</style>\n",
       "<table border=\"1\" class=\"dataframe\">\n",
       "  <thead>\n",
       "    <tr style=\"text-align: right;\">\n",
       "      <th></th>\n",
       "      <th>truth</th>\n",
       "      <th>text</th>\n",
       "    </tr>\n",
       "  </thead>\n",
       "  <tbody>\n",
       "    <tr>\n",
       "      <th>2205</th>\n",
       "      <td>4</td>\n",
       "      <td>An imaginative comedy/thriller .</td>\n",
       "    </tr>\n",
       "    <tr>\n",
       "      <th>2206</th>\n",
       "      <td>5</td>\n",
       "      <td>( A ) rare , beautiful film .</td>\n",
       "    </tr>\n",
       "    <tr>\n",
       "      <th>2207</th>\n",
       "      <td>5</td>\n",
       "      <td>( An ) hilarious romantic comedy .</td>\n",
       "    </tr>\n",
       "    <tr>\n",
       "      <th>2208</th>\n",
       "      <td>4</td>\n",
       "      <td>Never ( sinks ) into exploitation .</td>\n",
       "    </tr>\n",
       "    <tr>\n",
       "      <th>2209</th>\n",
       "      <td>1</td>\n",
       "      <td>( U ) nrelentingly stupid .</td>\n",
       "    </tr>\n",
       "  </tbody>\n",
       "</table>\n",
       "</div>"
      ],
      "text/plain": [
       "     truth                                 text\n",
       "2205     4     An imaginative comedy/thriller .\n",
       "2206     5        ( A ) rare , beautiful film .\n",
       "2207     5   ( An ) hilarious romantic comedy .\n",
       "2208     4  Never ( sinks ) into exploitation .\n",
       "2209     1          ( U ) nrelentingly stupid ."
      ]
     },
     "execution_count": 2,
     "metadata": {},
     "output_type": "execute_result"
    }
   ],
   "source": [
    "#input test data\n",
    "test_df = pd.read_csv('../dataset/sst5/sst_test.txt', sep='\\t', header=None,\n",
    "                   names=['truth', 'text'],\n",
    "                  )\n",
    "test_df['truth'] = test_df['truth'].str.replace('__label__', '')\n",
    "test_df['truth'] = test_df['truth'].astype(int).astype('category')\n",
    "test_df.tail()\n"
   ]
  },
  {
   "cell_type": "code",
   "execution_count": 3,
   "metadata": {},
   "outputs": [
    {
     "data": {
      "text/html": [
       "<div>\n",
       "<style scoped>\n",
       "    .dataframe tbody tr th:only-of-type {\n",
       "        vertical-align: middle;\n",
       "    }\n",
       "\n",
       "    .dataframe tbody tr th {\n",
       "        vertical-align: top;\n",
       "    }\n",
       "\n",
       "    .dataframe thead th {\n",
       "        text-align: right;\n",
       "    }\n",
       "</style>\n",
       "<table border=\"1\" class=\"dataframe\">\n",
       "  <thead>\n",
       "    <tr style=\"text-align: right;\">\n",
       "      <th></th>\n",
       "      <th>truth</th>\n",
       "      <th>text</th>\n",
       "      <th>len</th>\n",
       "    </tr>\n",
       "  </thead>\n",
       "  <tbody>\n",
       "    <tr>\n",
       "      <th>0</th>\n",
       "      <td>3</td>\n",
       "      <td>Effective but too-tepid biopic</td>\n",
       "      <td>30</td>\n",
       "    </tr>\n",
       "    <tr>\n",
       "      <th>1</th>\n",
       "      <td>4</td>\n",
       "      <td>If you sometimes like to go to the movies to h...</td>\n",
       "      <td>89</td>\n",
       "    </tr>\n",
       "    <tr>\n",
       "      <th>2</th>\n",
       "      <td>5</td>\n",
       "      <td>Emerges as something rare , an issue movie tha...</td>\n",
       "      <td>113</td>\n",
       "    </tr>\n",
       "    <tr>\n",
       "      <th>3</th>\n",
       "      <td>3</td>\n",
       "      <td>The film provides some great insight into the ...</td>\n",
       "      <td>138</td>\n",
       "    </tr>\n",
       "    <tr>\n",
       "      <th>4</th>\n",
       "      <td>5</td>\n",
       "      <td>Offers that rare combination of entertainment ...</td>\n",
       "      <td>61</td>\n",
       "    </tr>\n",
       "  </tbody>\n",
       "</table>\n",
       "</div>"
      ],
      "text/plain": [
       "  truth                                               text  len\n",
       "0     3                     Effective but too-tepid biopic   30\n",
       "1     4  If you sometimes like to go to the movies to h...   89\n",
       "2     5  Emerges as something rare , an issue movie tha...  113\n",
       "3     3  The film provides some great insight into the ...  138\n",
       "4     5  Offers that rare combination of entertainment ...   61"
      ]
     },
     "execution_count": 3,
     "metadata": {},
     "output_type": "execute_result"
    }
   ],
   "source": [
    "#add length column\n",
    "test_df['len'] = test_df['text'].str.len()\n",
    "test_df.head()"
   ]
  },
  {
   "cell_type": "code",
   "execution_count": 4,
   "metadata": {},
   "outputs": [
    {
     "data": {
      "text/html": [
       "<div>\n",
       "<style scoped>\n",
       "    .dataframe tbody tr th:only-of-type {\n",
       "        vertical-align: middle;\n",
       "    }\n",
       "\n",
       "    .dataframe tbody tr th {\n",
       "        vertical-align: top;\n",
       "    }\n",
       "\n",
       "    .dataframe thead th {\n",
       "        text-align: right;\n",
       "    }\n",
       "</style>\n",
       "<table border=\"1\" class=\"dataframe\">\n",
       "  <thead>\n",
       "    <tr style=\"text-align: right;\">\n",
       "      <th></th>\n",
       "      <th>truth</th>\n",
       "      <th>text</th>\n",
       "      <th>len</th>\n",
       "    </tr>\n",
       "  </thead>\n",
       "  <tbody>\n",
       "    <tr>\n",
       "      <th>0</th>\n",
       "      <td>4</td>\n",
       "      <td>The Rock is destined to be the 21st Century 's...</td>\n",
       "      <td>181</td>\n",
       "    </tr>\n",
       "    <tr>\n",
       "      <th>1</th>\n",
       "      <td>5</td>\n",
       "      <td>The gorgeously elaborate continuation of `` Th...</td>\n",
       "      <td>226</td>\n",
       "    </tr>\n",
       "    <tr>\n",
       "      <th>2</th>\n",
       "      <td>4</td>\n",
       "      <td>Singer/composer Bryan Adams contributes a slew...</td>\n",
       "      <td>208</td>\n",
       "    </tr>\n",
       "    <tr>\n",
       "      <th>3</th>\n",
       "      <td>3</td>\n",
       "      <td>You 'd think by now America would have had eno...</td>\n",
       "      <td>100</td>\n",
       "    </tr>\n",
       "    <tr>\n",
       "      <th>4</th>\n",
       "      <td>4</td>\n",
       "      <td>Yet the act is still charming here .</td>\n",
       "      <td>36</td>\n",
       "    </tr>\n",
       "  </tbody>\n",
       "</table>\n",
       "</div>"
      ],
      "text/plain": [
       "  truth                                               text  len\n",
       "0     4  The Rock is destined to be the 21st Century 's...  181\n",
       "1     5  The gorgeously elaborate continuation of `` Th...  226\n",
       "2     4  Singer/composer Bryan Adams contributes a slew...  208\n",
       "3     3  You 'd think by now America would have had eno...  100\n",
       "4     4               Yet the act is still charming here .   36"
      ]
     },
     "execution_count": 4,
     "metadata": {},
     "output_type": "execute_result"
    }
   ],
   "source": [
    "#input training data\n",
    "train_df = pd.read_csv('../dataset/sst5/sst_train.txt', sep='\\t', header=None,\n",
    "                   names=['truth', 'text'],\n",
    "                  )\n",
    "train_df['truth'] = train_df['truth'].str.replace('__label__', '')\n",
    "train_df['truth'] = train_df['truth'].astype(int).astype('category')\n",
    "\n",
    "train_df['len'] = train_df['text'].str.len()\n",
    "train_df.head()"
   ]
  },
  {
   "cell_type": "code",
   "execution_count": 5,
   "metadata": {},
   "outputs": [
    {
     "data": {
      "text/html": [
       "<div>\n",
       "<style scoped>\n",
       "    .dataframe tbody tr th:only-of-type {\n",
       "        vertical-align: middle;\n",
       "    }\n",
       "\n",
       "    .dataframe tbody tr th {\n",
       "        vertical-align: top;\n",
       "    }\n",
       "\n",
       "    .dataframe thead th {\n",
       "        text-align: right;\n",
       "    }\n",
       "</style>\n",
       "<table border=\"1\" class=\"dataframe\">\n",
       "  <thead>\n",
       "    <tr style=\"text-align: right;\">\n",
       "      <th></th>\n",
       "      <th>truth</th>\n",
       "      <th>text</th>\n",
       "      <th>len</th>\n",
       "    </tr>\n",
       "  </thead>\n",
       "  <tbody>\n",
       "    <tr>\n",
       "      <th>0</th>\n",
       "      <td>4</td>\n",
       "      <td>The Rock is destined to be the 21st Century 's...</td>\n",
       "      <td>181</td>\n",
       "    </tr>\n",
       "    <tr>\n",
       "      <th>1</th>\n",
       "      <td>5</td>\n",
       "      <td>The gorgeously elaborate continuation of `` Th...</td>\n",
       "      <td>226</td>\n",
       "    </tr>\n",
       "    <tr>\n",
       "      <th>2</th>\n",
       "      <td>4</td>\n",
       "      <td>Singer/composer Bryan Adams contributes a slew...</td>\n",
       "      <td>208</td>\n",
       "    </tr>\n",
       "    <tr>\n",
       "      <th>3</th>\n",
       "      <td>3</td>\n",
       "      <td>You 'd think by now America would have had eno...</td>\n",
       "      <td>100</td>\n",
       "    </tr>\n",
       "    <tr>\n",
       "      <th>4</th>\n",
       "      <td>4</td>\n",
       "      <td>Yet the act is still charming here .</td>\n",
       "      <td>36</td>\n",
       "    </tr>\n",
       "  </tbody>\n",
       "</table>\n",
       "</div>"
      ],
      "text/plain": [
       "  truth                                               text  len\n",
       "0     4  The Rock is destined to be the 21st Century 's...  181\n",
       "1     5  The gorgeously elaborate continuation of `` Th...  226\n",
       "2     4  Singer/composer Bryan Adams contributes a slew...  208\n",
       "3     3  You 'd think by now America would have had eno...  100\n",
       "4     4               Yet the act is still charming here .   36"
      ]
     },
     "execution_count": 5,
     "metadata": {},
     "output_type": "execute_result"
    }
   ],
   "source": [
    "#concatenate of train and test data\n",
    "df = pd.concat([train_df, test_df], axis = 0)\n",
    "df.to_csv(\"../dataset/sst5/sst5.csv\",index=False)\n",
    "df.head()"
   ]
  },
  {
   "cell_type": "code",
   "execution_count": 6,
   "metadata": {},
   "outputs": [
    {
     "data": {
      "text/html": [
       "<div>\n",
       "<style scoped>\n",
       "    .dataframe tbody tr th:only-of-type {\n",
       "        vertical-align: middle;\n",
       "    }\n",
       "\n",
       "    .dataframe tbody tr th {\n",
       "        vertical-align: top;\n",
       "    }\n",
       "\n",
       "    .dataframe thead th {\n",
       "        text-align: right;\n",
       "    }\n",
       "</style>\n",
       "<table border=\"1\" class=\"dataframe\">\n",
       "  <thead>\n",
       "    <tr style=\"text-align: right;\">\n",
       "      <th></th>\n",
       "      <th>truth</th>\n",
       "      <th>text</th>\n",
       "      <th>len</th>\n",
       "    </tr>\n",
       "  </thead>\n",
       "  <tbody>\n",
       "    <tr>\n",
       "      <th>0</th>\n",
       "      <td>4</td>\n",
       "      <td>The Rock is destined to be the 21st Century 's...</td>\n",
       "      <td>181</td>\n",
       "    </tr>\n",
       "    <tr>\n",
       "      <th>1</th>\n",
       "      <td>5</td>\n",
       "      <td>The gorgeously elaborate continuation of `` Th...</td>\n",
       "      <td>226</td>\n",
       "    </tr>\n",
       "    <tr>\n",
       "      <th>2</th>\n",
       "      <td>4</td>\n",
       "      <td>Singer/composer Bryan Adams contributes a slew...</td>\n",
       "      <td>208</td>\n",
       "    </tr>\n",
       "    <tr>\n",
       "      <th>3</th>\n",
       "      <td>3</td>\n",
       "      <td>You 'd think by now America would have had eno...</td>\n",
       "      <td>100</td>\n",
       "    </tr>\n",
       "    <tr>\n",
       "      <th>4</th>\n",
       "      <td>4</td>\n",
       "      <td>Yet the act is still charming here .</td>\n",
       "      <td>36</td>\n",
       "    </tr>\n",
       "  </tbody>\n",
       "</table>\n",
       "</div>"
      ],
      "text/plain": [
       "  truth                                               text  len\n",
       "0     4  The Rock is destined to be the 21st Century 's...  181\n",
       "1     5  The gorgeously elaborate continuation of `` Th...  226\n",
       "2     4  Singer/composer Bryan Adams contributes a slew...  208\n",
       "3     3  You 'd think by now America would have had eno...  100\n",
       "4     4               Yet the act is still charming here .   36"
      ]
     },
     "execution_count": 6,
     "metadata": {},
     "output_type": "execute_result"
    }
   ],
   "source": [
    "#save training data\n",
    "train_df.to_csv(\"../dataset/sst5/sst5_train.csv\",index=False)\n",
    "train_df.head()"
   ]
  },
  {
   "cell_type": "code",
   "execution_count": 7,
   "metadata": {},
   "outputs": [
    {
     "data": {
      "text/html": [
       "<div>\n",
       "<style scoped>\n",
       "    .dataframe tbody tr th:only-of-type {\n",
       "        vertical-align: middle;\n",
       "    }\n",
       "\n",
       "    .dataframe tbody tr th {\n",
       "        vertical-align: top;\n",
       "    }\n",
       "\n",
       "    .dataframe thead th {\n",
       "        text-align: right;\n",
       "    }\n",
       "</style>\n",
       "<table border=\"1\" class=\"dataframe\">\n",
       "  <thead>\n",
       "    <tr style=\"text-align: right;\">\n",
       "      <th></th>\n",
       "      <th>truth</th>\n",
       "      <th>text</th>\n",
       "      <th>len</th>\n",
       "    </tr>\n",
       "  </thead>\n",
       "  <tbody>\n",
       "    <tr>\n",
       "      <th>0</th>\n",
       "      <td>3</td>\n",
       "      <td>Effective but too-tepid biopic</td>\n",
       "      <td>30</td>\n",
       "    </tr>\n",
       "    <tr>\n",
       "      <th>1</th>\n",
       "      <td>4</td>\n",
       "      <td>If you sometimes like to go to the movies to h...</td>\n",
       "      <td>89</td>\n",
       "    </tr>\n",
       "    <tr>\n",
       "      <th>2</th>\n",
       "      <td>5</td>\n",
       "      <td>Emerges as something rare , an issue movie tha...</td>\n",
       "      <td>113</td>\n",
       "    </tr>\n",
       "    <tr>\n",
       "      <th>3</th>\n",
       "      <td>3</td>\n",
       "      <td>The film provides some great insight into the ...</td>\n",
       "      <td>138</td>\n",
       "    </tr>\n",
       "    <tr>\n",
       "      <th>4</th>\n",
       "      <td>5</td>\n",
       "      <td>Offers that rare combination of entertainment ...</td>\n",
       "      <td>61</td>\n",
       "    </tr>\n",
       "  </tbody>\n",
       "</table>\n",
       "</div>"
      ],
      "text/plain": [
       "  truth                                               text  len\n",
       "0     3                     Effective but too-tepid biopic   30\n",
       "1     4  If you sometimes like to go to the movies to h...   89\n",
       "2     5  Emerges as something rare , an issue movie tha...  113\n",
       "3     3  The film provides some great insight into the ...  138\n",
       "4     5  Offers that rare combination of entertainment ...   61"
      ]
     },
     "execution_count": 7,
     "metadata": {},
     "output_type": "execute_result"
    }
   ],
   "source": [
    "#save testing data\n",
    "test_df.to_csv(\"../dataset/sst5/sst5_test.csv\",index=False)\n",
    "test_df.head()"
   ]
  },
  {
   "cell_type": "code",
   "execution_count": 8,
   "metadata": {},
   "outputs": [
    {
     "name": "stdout",
     "output_type": "stream",
     "text": [
      "     truth                                               text  len\n",
      "4155     1  Even if the enticing prospect of a lot of nubi...  260\n",
      "1940     4  Filmmakers Dana Janklowicz-Mann and Amir Mann ...  260\n",
      "251      5  I stopped thinking about how good it all was ,...  260\n",
      "925      4  Notwithstanding my problem with the movie 's f...  261\n",
      "39       4  ... spiced with humor ( ' I speak fluent flatu...  267\n"
     ]
    }
   ],
   "source": [
    "#max_sentence_len = 267\n",
    "temp_df = train_df.sort_values(['len'], ascending=True)\n",
    "print(temp_df.tail())"
   ]
  },
  {
   "cell_type": "code",
   "execution_count": 9,
   "metadata": {},
   "outputs": [
    {
     "data": {
      "text/plain": [
       "Text(0, 0.5, 'Label')"
      ]
     },
     "execution_count": 9,
     "metadata": {},
     "output_type": "execute_result"
    },
    {
     "data": {
      "image/png": "[encoded data removed]",
      "text/plain": [
       "<Figure size 432x288 with 1 Axes>"
      ]
     },
     "metadata": {
      "needs_background": "light"
     },
     "output_type": "display_data"
    }
   ],
   "source": [
    "#data distribution\n",
    "data = pd.read_csv(\"../dataset/sst5/sst5.csv\")\n",
    "ax = data['truth'].value_counts(sort=False).plot(kind='barh')\n",
    "ax.set_xlabel(\"Number of Samples in sst5 Set\")\n",
    "ax.set_ylabel(\"Label\")"
   ]
  },
  {
   "cell_type": "code",
   "execution_count": 10,
   "metadata": {},
   "outputs": [
    {
     "data": {
      "text/plain": [
       "\"The Rock is destined to be the 21st Century 's new `` Conan '' and that he 's going to make a splash even greater than Arnold Schwarzenegger , Jean-Claud Van Damme or Steven Segal .\""
      ]
     },
     "execution_count": 10,
     "metadata": {},
     "output_type": "execute_result"
    }
   ],
   "source": [
    "#read data and convert to texts_list\n",
    "df = pd.read_csv(\"../dataset/sst5/sst5.csv\")\n",
    "labels = np.array(df['truth'])\n",
    "texts = np.array(df['text'])\n",
    "labels_list = labels.tolist()\n",
    "texts_list = texts.tolist()\n",
    "texts_list[0]"
   ]
  },
  {
   "cell_type": "code",
   "execution_count": 11,
   "metadata": {},
   "outputs": [
    {
     "data": {
      "text/plain": [
       "['the',\n",
       " 'rock',\n",
       " 'is',\n",
       " 'destined',\n",
       " 'to',\n",
       " 'be',\n",
       " 'the',\n",
       " '21st',\n",
       " 'century',\n",
       " \"'s\",\n",
       " 'new',\n",
       " '``',\n",
       " 'conan',\n",
       " \"''\",\n",
       " 'and',\n",
       " 'that',\n",
       " 'he',\n",
       " \"'s\",\n",
       " 'going',\n",
       " 'to',\n",
       " 'make',\n",
       " 'a',\n",
       " 'splash',\n",
       " 'even',\n",
       " 'greater',\n",
       " 'than',\n",
       " 'arnold',\n",
       " 'schwarzenegger',\n",
       " ',',\n",
       " 'jean',\n",
       " 'claud',\n",
       " 'van',\n",
       " 'damme',\n",
       " 'or',\n",
       " 'steven',\n",
       " 'segal']"
      ]
     },
     "execution_count": 11,
     "metadata": {},
     "output_type": "execute_result"
    }
   ],
   "source": [
    "#tokenizing\n",
    "from data_prepare import DataPrepare\n",
    "text_data_prepare = DataPrepare()\n",
    "texts_list = [s.strip() for s in texts_list]\n",
    "texts_list = [text_data_prepare.clean_str(sent) for sent in texts_list]\n",
    "texts_list = [s.split(\" \") for s in texts_list]\n",
    "texts_list[0]"
   ]
  },
  {
   "cell_type": "code",
   "execution_count": 12,
   "metadata": {},
   "outputs": [
    {
     "data": {
      "text/plain": [
       "(10754, 56)"
      ]
     },
     "execution_count": 12,
     "metadata": {},
     "output_type": "execute_result"
    }
   ],
   "source": [
    "#generate vocabulary dictionary and correlated data X\n",
    "sentences_padded = text_data_prepare.pad_sentences(texts_list)\n",
    "vocabulary, vocabulary_inv = text_data_prepare.build_vocab(sentences_padded)\n",
    "X = np.array([[vocabulary[word] for word in sentence] for sentence in sentences_padded])\n",
    "X.shape"
   ]
  },
  {
   "cell_type": "code",
   "execution_count": 13,
   "metadata": {},
   "outputs": [
    {
     "name": "stdout",
     "output_type": "stream",
     "text": [
      "(10754,)\n"
     ]
    },
    {
     "data": {
      "text/plain": [
       "array([4, 5, 4, ..., 5, 4, 1])"
      ]
     },
     "execution_count": 13,
     "metadata": {},
     "output_type": "execute_result"
    }
   ],
   "source": [
    "#encoding labels for sentiments classification\n",
    "lb = LabelEncoder()\n",
    "y_train_old = labels\n",
    "print(y_train_old.shape)\n",
    "y = np_utils.to_categorical(lb.fit_transform(labels))\n",
    "y_train_old"
   ]
  },
  {
   "cell_type": "code",
   "execution_count": 14,
   "metadata": {},
   "outputs": [
    {
     "name": "stdout",
     "output_type": "stream",
     "text": [
      "(8603, 56)\n",
      "(8603, 5)\n",
      "(2151, 56)\n",
      "(2151, 5)\n"
     ]
    }
   ],
   "source": [
    "#split testing and training\n",
    "X_train, X_test, y_train, y_test = train_test_split( X, y, test_size=0.2, random_state=42)\n",
    "print(X_train.shape)\n",
    "print(y_train.shape)\n",
    "print(X_test.shape)\n",
    "print(y_test.shape)"
   ]
  },
  {
   "cell_type": "code",
   "execution_count": 15,
   "metadata": {},
   "outputs": [
    {
     "name": "stdout",
     "output_type": "stream",
     "text": [
      "sequence_length: 56\n",
      "vocabulary_size: 17088\n"
     ]
    }
   ],
   "source": [
    "#set hyperparameters and configurations of model\n",
    "sequence_length = X.shape[1] # 56\n",
    "print(\"sequence_length:\",sequence_length)\n",
    "vocabulary_size = len(vocabulary_inv) # 18765\n",
    "print(\"vocabulary_size:\",vocabulary_size)\n",
    "embedding_dim = 256\n",
    "filter_sizes = [3,4,5]\n",
    "num_filters = 512\n",
    "drop = 0.3\n",
    "\n",
    "epochs = 50\n",
    "batch_size = 32"
   ]
  },
  {
   "cell_type": "code",
   "execution_count": 16,
   "metadata": {},
   "outputs": [
    {
     "name": "stdout",
     "output_type": "stream",
     "text": [
      "Model: \"model\"\n",
      "__________________________________________________________________________________________________\n",
      " Layer (type)                   Output Shape         Param #     Connected to                     \n",
      "==================================================================================================\n",
      " input_1 (InputLayer)           [(None, 56)]         0           []                               \n",
      "                                                                                                  \n",
      " embedding (Embedding)          (None, 56, 256)      4374528     ['input_1[0][0]']                \n",
      "                                                                                                  \n",
      " reshape (Reshape)              (None, 56, 256, 1)   0           ['embedding[0][0]']              \n",
      "                                                                                                  \n",
      " conv2d (Conv2D)                (None, 54, 1, 512)   393728      ['reshape[0][0]']                \n",
      "                                                                                                  \n",
      " conv2d_1 (Conv2D)              (None, 53, 1, 512)   524800      ['reshape[0][0]']                \n",
      "                                                                                                  \n",
      " conv2d_2 (Conv2D)              (None, 52, 1, 512)   655872      ['reshape[0][0]']                \n",
      "                                                                                                  \n",
      " dropout (Dropout)              (None, 54, 1, 512)   0           ['conv2d[0][0]']                 \n",
      "                                                                                                  \n",
      " dropout_1 (Dropout)            (None, 53, 1, 512)   0           ['conv2d_1[0][0]']               \n",
      "                                                                                                  \n",
      " dropout_2 (Dropout)            (None, 52, 1, 512)   0           ['conv2d_2[0][0]']               \n",
      "                                                                                                  \n",
      " max_pooling2d (MaxPooling2D)   (None, 1, 1, 512)    0           ['dropout[0][0]']                \n",
      "                                                                                                  \n",
      " max_pooling2d_1 (MaxPooling2D)  (None, 1, 1, 512)   0           ['dropout_1[0][0]']              \n",
      "                                                                                                  \n",
      " max_pooling2d_2 (MaxPooling2D)  (None, 1, 1, 512)   0           ['dropout_2[0][0]']              \n",
      "                                                                                                  \n",
      " concatenate (Concatenate)      (None, 3, 1, 512)    0           ['max_pooling2d[0][0]',          \n",
      "                                                                  'max_pooling2d_1[0][0]',        \n",
      "                                                                  'max_pooling2d_2[0][0]']        \n",
      "                                                                                                  \n",
      " flatten (Flatten)              (None, 1536)         0           ['concatenate[0][0]']            \n",
      "                                                                                                  \n",
      " dropout_3 (Dropout)            (None, 1536)         0           ['flatten[0][0]']                \n",
      "                                                                                                  \n",
      " reshape_1 (Reshape)            (None, 1, 1536)      0           ['dropout_3[0][0]']              \n",
      "                                                                                                  \n",
      " dense (Dense)                  (None, 1, 768)       1180416     ['reshape_1[0][0]']              \n",
      "                                                                                                  \n",
      " dropout_4 (Dropout)            (None, 1, 768)       0           ['dense[0][0]']                  \n",
      "                                                                                                  \n",
      " attention (Attention)          (None, 256)          983040      ['dropout_4[0][0]']              \n",
      "                                                                                                  \n",
      " dense_1 (Dense)                (None, 5)            1285        ['attention[0][0]']              \n",
      "                                                                                                  \n",
      "==================================================================================================\n",
      "Total params: 8,113,669\n",
      "Trainable params: 8,113,669\n",
      "Non-trainable params: 0\n",
      "__________________________________________________________________________________________________\n"
     ]
    },
    {
     "name": "stderr",
     "output_type": "stream",
     "text": [
      "2022-05-11 19:27:43.604442: I tensorflow/stream_executor/cuda/cuda_gpu_executor.cc:936] successful NUMA node read from SysFS had negative value (-1), but there must be at least one NUMA node, so returning NUMA node zero\n",
      "2022-05-11 19:27:43.605064: I tensorflow/stream_executor/cuda/cuda_gpu_executor.cc:936] successful NUMA node read from SysFS had negative value (-1), but there must be at least one NUMA node, so returning NUMA node zero\n",
      "2022-05-11 19:27:43.609150: W tensorflow/stream_executor/platform/default/dso_loader.cc:64] Could not load dynamic library 'libcusolver.so.11'; dlerror: libcusolver.so.11: cannot open shared object file: No such file or directory\n",
      "2022-05-11 19:27:43.609749: W tensorflow/stream_executor/platform/default/dso_loader.cc:64] Could not load dynamic library 'libcudnn.so.8'; dlerror: libcudnn.so.8: cannot open shared object file: No such file or directory\n",
      "2022-05-11 19:27:43.609762: W tensorflow/core/common_runtime/gpu/gpu_device.cc:1850] Cannot dlopen some GPU libraries. Please make sure the missing libraries mentioned above are installed properly if you would like to use GPU. Follow the guide at https://www.tensorflow.org/install/gpu for how to download and setup the required libraries for your platform.\n",
      "Skipping registering GPU devices...\n",
      "2022-05-11 19:27:43.610011: I tensorflow/core/platform/cpu_feature_guard.cc:151] This TensorFlow binary is optimized with oneAPI Deep Neural Network Library (oneDNN) to use the following CPU instructions in performance-critical operations:  AVX2 FMA\n",
      "To enable them in other operations, rebuild TensorFlow with the appropriate compiler flags.\n"
     ]
    }
   ],
   "source": [
    "#create model based on TextCNN，concatenate after convolutional network\n",
    "inputs = Input(shape=(sequence_length,), dtype='int32')\n",
    "embedding = Embedding(input_dim=vocabulary_size, output_dim=embedding_dim, input_length=sequence_length)(inputs)\n",
    "reshape = Reshape((sequence_length,embedding_dim,1))(embedding)\n",
    "\n",
    "conv_0 = Conv2D(num_filters, kernel_size=(filter_sizes[0], embedding_dim), padding='valid', kernel_initializer='normal', activation='relu')(reshape)\n",
    "conv_0 = Dropout(rate=drop)(conv_0)\n",
    "\n",
    "conv_1 = Conv2D(num_filters, kernel_size=(filter_sizes[1], embedding_dim), padding='valid', kernel_initializer='normal', activation='relu')(reshape)\n",
    "conv_1 = Dropout(rate=drop)(conv_1)\n",
    "\n",
    "conv_2 = Conv2D(num_filters, kernel_size=(filter_sizes[2], embedding_dim), padding='valid', kernel_initializer='normal', activation='relu')(reshape)\n",
    "conv_2 = Dropout(rate=drop)(conv_2)\n",
    "\n",
    "#conv_3 = Conv2D(num_filters, kernel_size=(filter_sizes[3], embedding_dim), padding='valid', kernel_initializer='normal', activation='relu')(reshape)\n",
    "#conv_3 = Dropout(rate=drop)(conv_3)\n",
    "\n",
    "maxpool_0 = MaxPool2D(pool_size=(sequence_length - filter_sizes[0] + 1, 1), strides=(1,1), padding='valid')(conv_0)\n",
    "maxpool_1 = MaxPool2D(pool_size=(sequence_length - filter_sizes[1] + 1, 1), strides=(1,1), padding='valid')(conv_1)\n",
    "maxpool_2 = MaxPool2D(pool_size=(sequence_length - filter_sizes[2] + 1, 1), strides=(1,1), padding='valid')(conv_2)\n",
    "#maxpool_3 = MaxPool2D(pool_size=(sequence_length - filter_sizes[3] + 1, 1), strides=(1,1), padding='valid')(conv_3)\n",
    "#concatenated_tensor = Concatenate(axis=1)([maxpool_0, maxpool_1, maxpool_2, maxpool_3])\n",
    "concatenated_tensor = Concatenate(axis=1)([maxpool_0, maxpool_1, maxpool_2])\n",
    "flatten = Flatten()(concatenated_tensor)\n",
    "dropout = Dropout(drop)(flatten)\n",
    "att = Reshape((1, -1))(dropout)\n",
    "att = Dense(units=768, activation='relu')(att)\n",
    "att = Dropout(drop)(att)\n",
    "att = Attention(units=256)(att)\n",
    "output = Dense(units=5, activation='softmax')(att)\n",
    "#output = Dense(units=5, activation='softmax')(dropout)\n",
    "# this creates a model that includes\n",
    "model = Model(inputs=inputs, outputs=output)\n",
    "\n",
    "model.summary()"
   ]
  },
  {
   "cell_type": "code",
   "execution_count": 24,
   "metadata": {},
   "outputs": [
    {
     "name": "stdout",
     "output_type": "stream",
     "text": [
      "Traning Model...\n",
      "Epoch 1/20\n",
      "269/269 [==============================] - 24s 88ms/step - loss: 1.5814 - acc: 0.2627 - val_loss: 1.5677 - val_acc: 0.3045\n",
      "Epoch 2/20\n",
      "269/269 [==============================] - 24s 88ms/step - loss: 1.5140 - acc: 0.3356 - val_loss: 1.5012 - val_acc: 0.3482\n",
      "Epoch 3/20\n",
      "269/269 [==============================] - 24s 88ms/step - loss: 1.3148 - acc: 0.4493 - val_loss: 1.4043 - val_acc: 0.3715\n",
      "Epoch 4/20\n",
      "269/269 [==============================] - 24s 88ms/step - loss: 0.9786 - acc: 0.6058 - val_loss: 1.3608 - val_acc: 0.4031\n",
      "Epoch 5/20\n",
      "269/269 [==============================] - 24s 88ms/step - loss: 0.6388 - acc: 0.7780 - val_loss: 1.4369 - val_acc: 0.3989\n",
      "Epoch 6/20\n",
      "269/269 [==============================] - 24s 88ms/step - loss: 0.3455 - acc: 0.9025 - val_loss: 1.5446 - val_acc: 0.3817\n",
      "Epoch 7/20\n",
      "269/269 [==============================] - 24s 89ms/step - loss: 0.1824 - acc: 0.9550 - val_loss: 1.6694 - val_acc: 0.3970\n",
      "Epoch 8/20\n",
      "269/269 [==============================] - 24s 88ms/step - loss: 0.0990 - acc: 0.9787 - val_loss: 1.7930 - val_acc: 0.3724\n",
      "Epoch 9/20\n",
      "269/269 [==============================] - 24s 89ms/step - loss: 0.0594 - acc: 0.9890 - val_loss: 1.9129 - val_acc: 0.3756\n",
      "Epoch 10/20\n",
      "269/269 [==============================] - 24s 89ms/step - loss: 0.0399 - acc: 0.9930 - val_loss: 2.0224 - val_acc: 0.3724\n",
      "Epoch 11/20\n",
      "269/269 [==============================] - 25s 92ms/step - loss: 0.0268 - acc: 0.9963 - val_loss: 2.0871 - val_acc: 0.3756\n",
      "Epoch 12/20\n",
      "269/269 [==============================] - 24s 91ms/step - loss: 0.0186 - acc: 0.9979 - val_loss: 2.1968 - val_acc: 0.3752\n",
      "Epoch 13/20\n",
      "269/269 [==============================] - 24s 90ms/step - loss: 0.0160 - acc: 0.9973 - val_loss: 2.3164 - val_acc: 0.3840\n",
      "Epoch 14/20\n",
      "269/269 [==============================] - 24s 90ms/step - loss: 0.0144 - acc: 0.9969 - val_loss: 2.4035 - val_acc: 0.3914\n",
      "Epoch 15/20\n",
      "269/269 [==============================] - 24s 90ms/step - loss: 0.0117 - acc: 0.9979 - val_loss: 2.4771 - val_acc: 0.3691\n",
      "Epoch 16/20\n",
      "269/269 [==============================] - 24s 90ms/step - loss: 0.0096 - acc: 0.9987 - val_loss: 2.5866 - val_acc: 0.3849\n",
      "Epoch 17/20\n",
      "269/269 [==============================] - 24s 89ms/step - loss: 0.0082 - acc: 0.9983 - val_loss: 2.6900 - val_acc: 0.3854\n",
      "Epoch 18/20\n",
      "269/269 [==============================] - 24s 90ms/step - loss: 0.0055 - acc: 0.9994 - val_loss: 2.6956 - val_acc: 0.3798\n",
      "Epoch 19/20\n",
      "269/269 [==============================] - 24s 89ms/step - loss: 0.0042 - acc: 0.9995 - val_loss: 2.7550 - val_acc: 0.3821\n",
      "Epoch 20/20\n",
      "269/269 [==============================] - 24s 90ms/step - loss: 0.0041 - acc: 0.9997 - val_loss: 2.8381 - val_acc: 0.3733\n"
     ]
    }
   ],
   "source": [
    "#model training\n",
    "from tensorflow.python.framework import ops\n",
    "from keras import losses\n",
    "adam = Adam(learning_rate=1e-4, beta_1=0.9, beta_2=0.999, epsilon=1e-08, decay=0.0)\n",
    "print(\"Traning Model...\")\n",
    "model.compile(optimizer=adam, loss=losses.categorical_crossentropy, metrics=['acc'])\n",
    "model_history = model.fit(X_train, y_train, batch_size=batch_size, epochs=epochs, verbose=1, validation_data=(X_test, y_test))  # starts training\n"
   ]
  },
  {
   "cell_type": "code",
   "execution_count": 74,
   "metadata": {},
   "outputs": [
    {
     "data": {
      "image/png": "[encoded data removed]",
      "text/plain": [
       "<Figure size 432x288 with 1 Axes>"
      ]
     },
     "metadata": {
      "needs_background": "light"
     },
     "output_type": "display_data"
    },
    {
     "data": {
      "image/png": "[encoded data removed]",
      "text/plain": [
       "<Figure size 432x288 with 1 Axes>"
      ]
     },
     "metadata": {
      "needs_background": "light"
     },
     "output_type": "display_data"
    }
   ],
   "source": [
    "from plot import plot_loss_curve, plot_acc_curve\n",
    "plot_acc_curve(model_history)\n",
    "plot_loss_curve(model_history)"
   ]
  },
  {
   "cell_type": "code",
   "execution_count": 111,
   "metadata": {},
   "outputs": [
    {
     "name": "stdout",
     "output_type": "stream",
     "text": [
      "accuracy: 41.93%\n",
      "135/135 - 1s - 969ms/epoch - 7ms/step\n"
     ]
    },
    {
     "data": {
      "image/png": "[encoded data removed]",
      "text/plain": [
       "<Figure size 720x504 with 2 Axes>"
      ]
     },
     "metadata": {
      "needs_background": "light"
     },
     "output_type": "display_data"
    }
   ],
   "source": [
    "from plot import plot_confusion_matrix\n",
    "labels = ['1','2','3','4','5']\n",
    "plot_confusion_matrix(model, X_test, y_test, labels, lb)"
   ]
  },
  {
   "cell_type": "code",
   "execution_count": 17,
   "metadata": {},
   "outputs": [
    {
     "name": "stdout",
     "output_type": "stream",
     "text": [
      "Traning Model...\n"
     ]
    }
   ],
   "source": [
    "\n",
    "#training\n",
    "from tensorflow.python.framework import ops\n",
    "from keras import losses\n",
    "adam = Adam(learning_rate=1e-4, beta_1=0.9, beta_2=0.999, epsilon=1e-08, decay=0.0)\n",
    "print(\"Traning Model...\")\n",
    "model.compile(optimizer=adam, loss=losses.categorical_crossentropy, metrics=['acc'])"
   ]
  },
  {
   "cell_type": "code",
   "execution_count": null,
   "metadata": {},
   "outputs": [],
   "source": []
  },
  {
   "cell_type": "code",
   "execution_count": null,
   "metadata": {},
   "outputs": [],
   "source": []
  },
  {
   "cell_type": "code",
   "execution_count": null,
   "metadata": {},
   "outputs": [],
   "source": []
  },
  {
   "cell_type": "code",
   "execution_count": null,
   "metadata": {},
   "outputs": [],
   "source": []
  },
  {
   "cell_type": "code",
   "execution_count": null,
   "metadata": {},
   "outputs": [],
   "source": []
  }
 ],
 "metadata": {
  "interpreter": {
   "hash": "efe33e4e0528b1633341ae52640fb114490bde57705687440dfd17ecb56d62bc"
  },
  "kernelspec": {
   "display_name": "Python 3.7.5 (conda)",
   "language": "python",
   "name": "python3"
  },
  "language_info": {
   "codemirror_mode": {
    "name": "ipython",
    "version": 3
   },
   "file_extension": ".py",
   "mimetype": "text/x-python",
   "name": "python",
   "nbconvert_exporter": "python",
   "pygments_lexer": "ipython3",
   "version": "3.7.5"
  },
  "orig_nbformat": 4
 },
 "nbformat": 4,
 "nbformat_minor": 2
}